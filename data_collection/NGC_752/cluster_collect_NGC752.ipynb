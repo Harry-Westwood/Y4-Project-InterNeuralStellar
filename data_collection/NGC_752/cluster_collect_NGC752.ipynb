{
 "cells": [
  {
   "cell_type": "code",
   "execution_count": 1,
   "metadata": {},
   "outputs": [
    {
     "name": "stderr",
     "output_type": "stream",
     "text": [
      "C:\\Users\\User\\Anaconda3\\lib\\site-packages\\statsmodels\\tools\\_testing.py:19: FutureWarning: pandas.util.testing is deprecated. Use the functions in the public API at pandas.testing instead.\n",
      "  import pandas.util.testing as tm\n"
     ]
    },
    {
     "name": "stdout",
     "output_type": "stream",
     "text": [
      "Created TAP+ (v1.2.1) - Connection:\n",
      "\tHost: gea.esac.esa.int\n",
      "\tUse HTTPS: True\n",
      "\tPort: 443\n",
      "\tSSL Port: 443\n",
      "Created TAP+ (v1.2.1) - Connection:\n",
      "\tHost: geadata.esac.esa.int\n",
      "\tUse HTTPS: True\n",
      "\tPort: 443\n",
      "\tSSL Port: 443\n"
     ]
    }
   ],
   "source": [
    "import pandas as pd\n",
    "import numpy as np\n",
    "import seaborn as sns\n",
    "import matplotlib.pyplot as plt\n",
    "from dataCollection import *"
   ]
  },
  {
   "cell_type": "code",
   "execution_count": 2,
   "metadata": {},
   "outputs": [],
   "source": [
    "OC = 'NGC_752'"
   ]
  },
  {
   "cell_type": "code",
   "execution_count": 3,
   "metadata": {},
   "outputs": [
    {
     "name": "stdout",
     "output_type": "stream",
     "text": [
      "There is 253 stars in the membership paper.\n",
      "Simbad input txt file saved as \"NGC_752/NGC_752_simbad_input.txt\".\n",
      "Launching GAIA query...\n"
     ]
    },
    {
     "name": "stderr",
     "output_type": "stream",
     "text": [
      "WARNING: W35: None:5:0: W35: 'value' attribute required for INFO elements [astropy.io.votable.tree]\n",
      "WARNING: W35: None:6:0: W35: 'value' attribute required for INFO elements [astropy.io.votable.tree]\n",
      "WARNING: W35: None:7:0: W35: 'value' attribute required for INFO elements [astropy.io.votable.tree]\n",
      "WARNING: W35: None:8:0: W35: 'value' attribute required for INFO elements [astropy.io.votable.tree]\n",
      "WARNING: W35: None:10:0: W35: 'value' attribute required for INFO elements [astropy.io.votable.tree]\n",
      "WARNING: W50: None:19:0: W50: Invalid unit string ''electron'.s**-1' [astropy.io.votable.tree]\n",
      "WARNING: W50: None:22:0: W50: Invalid unit string ''electron'.s**-1' [astropy.io.votable.tree]\n",
      "WARNING: W06: None:31:0: W06: Invalid UCD 'phys.luminosity;stat.error': Primary word 'stat.error' is not valid as a secondary word [astropy.io.votable.tree]\n",
      "WARNING: W06: None:34:0: W06: Invalid UCD 'phys.luminosity;stat.error': Primary word 'stat.error' is not valid as a secondary word [astropy.io.votable.tree]\n"
     ]
    },
    {
     "name": "stdout",
     "output_type": "stream",
     "text": [
      "Obtained 253 out of 253 stars in the cluster.\n",
      "Launching GAIA query...\n"
     ]
    },
    {
     "name": "stderr",
     "output_type": "stream",
     "text": [
      "WARNING: W35: None:5:0: W35: 'value' attribute required for INFO elements [astropy.io.votable.tree]\n",
      "WARNING: W35: None:6:0: W35: 'value' attribute required for INFO elements [astropy.io.votable.tree]\n",
      "WARNING: W35: None:7:0: W35: 'value' attribute required for INFO elements [astropy.io.votable.tree]\n",
      "WARNING: W35: None:8:0: W35: 'value' attribute required for INFO elements [astropy.io.votable.tree]\n",
      "WARNING: W35: None:10:0: W35: 'value' attribute required for INFO elements [astropy.io.votable.tree]\n"
     ]
    },
    {
     "name": "stdout",
     "output_type": "stream",
     "text": [
      "252 out of 253 stars in the cluster have cross match 2MASS IDs.\n",
      "Matching APOGEE Teffs to queried GAIA stars\n",
      "Found 0 matching stars with APOGEE Teff data.\n"
     ]
    }
   ],
   "source": [
    "#step0: match apogee data with gaia data\n",
    "#apogee_Teff = matchApogeeGaia('k2')\n",
    "\n",
    "#step 1: get members in gaia IDs and write a simbad input file\n",
    "gaia_IDs, member_df = genSimbad(OC, \"{}/{}_simbad_input.txt\".format(OC,OC))\n",
    "\n",
    "#step 2: astroquery for gaia Gband mags, luminosities and distances, then tm_IDs\n",
    "gaia_df = GAIA_query(gaia_IDs)\n",
    "gaia_df = GAIA_query_tm(gaia_df, gaia_IDs)\n",
    "\n",
    "#step 3: merging apogee_gaia df with gaia_df\n",
    "step3_df = matchApogeeToData(gaia_df)"
   ]
  },
  {
   "cell_type": "code",
   "execution_count": 4,
   "metadata": {
    "scrolled": false
   },
   "outputs": [
    {
     "name": "stdout",
     "output_type": "stream",
     "text": [
      "Reading SIMBAD output and merging it to GAIA+APOGEE data...\n",
      "found 253 matching IDs\n",
      "41 stars have Teff data\n",
      "Found Teff for 41 stars between SIMBAD and APOGEE.\n",
      "Matching in membership data and applying membership cut...\n",
      "39/41 stars are taken as cluster members\n",
      "Using APOGEE Teff for 0 stars.\n",
      "There are 30 stars without APOGEE data and have Teff provided by only one paper.\n",
      "Picking Teff automatically for 9 stars, 0 stars require manual picking.\n"
     ]
    },
    {
     "name": "stderr",
     "output_type": "stream",
     "text": [
      "C:\\Users\\User\\Anaconda3\\lib\\site-packages\\pandas\\core\\ops\\array_ops.py:253: FutureWarning: elementwise comparison failed; returning scalar instead, but in the future will perform elementwise comparison\n",
      "  res_values = method(rvalues)\n",
      "C:\\Users\\User\\Documents\\UoB physics stuff\\year 4\\FYP\\Simbad\\dataCollection.py:310: SettingWithCopyWarning: \n",
      "A value is trying to be set on a copy of a slice from a DataFrame\n",
      "\n",
      "See the caveats in the documentation: https://pandas.pydata.org/pandas-docs/stable/user_guide/indexing.html#returning-a-view-versus-a-copy\n",
      "  df['Teff'][i] = paper[0]\n",
      "C:\\Users\\User\\Documents\\UoB physics stuff\\year 4\\FYP\\Simbad\\dataCollection.py:311: SettingWithCopyWarning: \n",
      "A value is trying to be set on a copy of a slice from a DataFrame\n",
      "\n",
      "See the caveats in the documentation: https://pandas.pydata.org/pandas-docs/stable/user_guide/indexing.html#returning-a-view-versus-a-copy\n",
      "  df['ref'][i] = paper[2]\n",
      "C:\\Users\\User\\Anaconda3\\lib\\site-packages\\pandas\\core\\indexing.py:670: SettingWithCopyWarning: \n",
      "A value is trying to be set on a copy of a slice from a DataFrame\n",
      "\n",
      "See the caveats in the documentation: https://pandas.pydata.org/pandas-docs/stable/user_guide/indexing.html#returning-a-view-versus-a-copy\n",
      "  self._setitem_with_indexer(indexer, value)\n"
     ]
    },
    {
     "data": {
      "text/html": [
       "<div>\n",
       "<style scoped>\n",
       "    .dataframe tbody tr th:only-of-type {\n",
       "        vertical-align: middle;\n",
       "    }\n",
       "\n",
       "    .dataframe tbody tr th {\n",
       "        vertical-align: top;\n",
       "    }\n",
       "\n",
       "    .dataframe thead th {\n",
       "        text-align: right;\n",
       "    }\n",
       "</style>\n",
       "<table border=\"1\" class=\"dataframe\">\n",
       "  <thead>\n",
       "    <tr style=\"text-align: right;\">\n",
       "      <th></th>\n",
       "      <th>ref</th>\n",
       "      <th>count</th>\n",
       "    </tr>\n",
       "  </thead>\n",
       "  <tbody>\n",
       "    <tr>\n",
       "      <th>0</th>\n",
       "      <td>2013AJ....146..143M</td>\n",
       "      <td>27.0</td>\n",
       "    </tr>\n",
       "    <tr>\n",
       "      <th>1</th>\n",
       "      <td>2015MNRAS.446.3562B</td>\n",
       "      <td>10.0</td>\n",
       "    </tr>\n",
       "    <tr>\n",
       "      <th>2</th>\n",
       "      <td>2004A&amp;A...426..809S</td>\n",
       "      <td>2.0</td>\n",
       "    </tr>\n",
       "  </tbody>\n",
       "</table>\n",
       "</div>"
      ],
      "text/plain": [
       "                   ref  count\n",
       "0  2013AJ....146..143M   27.0\n",
       "1  2015MNRAS.446.3562B   10.0\n",
       "2  2004A&A...426..809S    2.0"
      ]
     },
     "execution_count": 4,
     "metadata": {},
     "output_type": "execute_result"
    }
   ],
   "source": [
    "#step 4: read simbad output file and combine it to step3_df\n",
    "step4_df = readSimbad(f'{OC}/{OC}_simbad_output.txt',step3_df)\n",
    "\n",
    "#step 5: matching back in ra, dec and membership prob from membership paper, and apply membership cut for total membership>99%\n",
    "step5_df = membershipCut(step4_df, member_df)\n",
    "\n",
    "#step 6: Teff selection: 1.apogee, 2.singulars, 3.take away problematics, \n",
    "# 4.apply most widespread source of Teff until all multiples have Teff, 5.manual picking of problematics\n",
    "assigned_df, problematic_df, final_ranks = assignTeff(step5_df)\n",
    "final_ranks"
   ]
  },
  {
   "cell_type": "code",
   "execution_count": 5,
   "metadata": {},
   "outputs": [],
   "source": [
    "#manual assigning of problematic Teffs\n",
    "problematic_df = replaceManual(problematic_df, final_ranks)\n",
    "step6_df = pd.concat([assigned_df,problematic_df])\n",
    "step6_df.sort_index(inplace=True)"
   ]
  },
  {
   "cell_type": "code",
   "execution_count": 6,
   "metadata": {},
   "outputs": [
    {
     "data": {
      "text/html": [
       "<div>\n",
       "<style scoped>\n",
       "    .dataframe tbody tr th:only-of-type {\n",
       "        vertical-align: middle;\n",
       "    }\n",
       "\n",
       "    .dataframe tbody tr th {\n",
       "        vertical-align: top;\n",
       "    }\n",
       "\n",
       "    .dataframe thead th {\n",
       "        text-align: right;\n",
       "    }\n",
       "</style>\n",
       "<table border=\"1\" class=\"dataframe\">\n",
       "  <thead>\n",
       "    <tr style=\"text-align: right;\">\n",
       "      <th></th>\n",
       "      <th>ref</th>\n",
       "      <th>count</th>\n",
       "    </tr>\n",
       "  </thead>\n",
       "  <tbody>\n",
       "    <tr>\n",
       "      <th>0</th>\n",
       "      <td>2013AJ....146..143M</td>\n",
       "      <td>27.0</td>\n",
       "    </tr>\n",
       "    <tr>\n",
       "      <th>1</th>\n",
       "      <td>2015MNRAS.446.3562B</td>\n",
       "      <td>10.0</td>\n",
       "    </tr>\n",
       "    <tr>\n",
       "      <th>2</th>\n",
       "      <td>2004A&amp;A...426..809S</td>\n",
       "      <td>2.0</td>\n",
       "    </tr>\n",
       "  </tbody>\n",
       "</table>\n",
       "</div>"
      ],
      "text/plain": [
       "                   ref  count\n",
       "0  2013AJ....146..143M   27.0\n",
       "1  2015MNRAS.446.3562B   10.0\n",
       "2  2004A&A...426..809S    2.0"
      ]
     },
     "execution_count": 6,
     "metadata": {},
     "output_type": "execute_result"
    }
   ],
   "source": [
    "#listing all papers to google\n",
    "countUniqueRefs(step6_df, column='ref')"
   ]
  },
  {
   "cell_type": "code",
   "execution_count": 7,
   "metadata": {},
   "outputs": [
    {
     "name": "stderr",
     "output_type": "stream",
     "text": [
      "C:\\Users\\User\\Documents\\UoB physics stuff\\year 4\\FYP\\Simbad\\dataCollection.py:497: SettingWithCopyWarning: \n",
      "A value is trying to be set on a copy of a slice from a DataFrame\n",
      "\n",
      "See the caveats in the documentation: https://pandas.pydata.org/pandas-docs/stable/user_guide/indexing.html#returning-a-view-versus-a-copy\n",
      "  df['Teff_err'][i]=Teff_err[j]\n",
      "C:\\Users\\User\\Documents\\UoB physics stuff\\year 4\\FYP\\Simbad\\dataCollection.py:521: SettingWithCopyWarning: \n",
      "A value is trying to be set on a copy of a slice from a DataFrame\n",
      "\n",
      "See the caveats in the documentation: https://pandas.pydata.org/pandas-docs/stable/user_guide/indexing.html#returning-a-view-versus-a-copy\n",
      "  df['Teff_err'][i]=Teff_err\n"
     ]
    }
   ],
   "source": [
    "#Matching Teff errors from papers:\n",
    "resulting_df = matchTeff_err(step6_df, '2013AJ....146..143M', OC+'/2013AJ....146..143M_Teff.txt', None,None,10,11)\n",
    "#this paper only contribute RGB stars, putting in 100K Teff error as proxy\n",
    "resulting_df = fixedTeff_err(resulting_df, '2015MNRAS.446.3562B', 100)\n",
    "step7_df = fixedTeff_err(resulting_df, '2004A&A...426..809S', 150)"
   ]
  },
  {
   "cell_type": "code",
   "execution_count": 8,
   "metadata": {},
   "outputs": [
    {
     "name": "stdout",
     "output_type": "stream",
     "text": [
      "29.420833333333334 37.785\n"
     ]
    }
   ],
   "source": [
    "ra_dec_conv('01 57 41.0','+37 47 06')"
   ]
  },
  {
   "cell_type": "code",
   "execution_count": 9,
   "metadata": {},
   "outputs": [
    {
     "name": "stdout",
     "output_type": "stream",
     "text": [
      "440.6660452073633 1.2226744088437396\n",
      "WARNING: distance modulus 8.220547939783646 exceeds reliable redenning range.\n"
     ]
    }
   ],
   "source": [
    "dist = step7_df['distance']\n",
    "dist = dist[np.logical_not(np.isnan(dist))]\n",
    "dist_err = step7_df['distance_err']\n",
    "dist_err = dist_err[np.logical_not(np.isnan(dist_err))]\n",
    "mean_dist = np.sum(dist*dist_err**(-2))/np.sum(dist_err**(-2))\n",
    "mean_dist_err = np.sqrt(1/np.sum(dist_err**(-2)))\n",
    "print(mean_dist, mean_dist_err)\n",
    "#mean_dist_err=0\n",
    "luminosity, luminosity_err = lum_calc(OC, step7_df['g_mag'], step7_df['g_mag_err'], mean_dist, mean_dist_err, list(step7_df['Teff']), list(step7_df['Teff_err']))\n",
    "step8_df = step7_df.copy()\n",
    "step8_df['cal_lum'] = luminosity\n",
    "step8_df['cal_lum_err'] = luminosity_err\n",
    "step8_df.dropna(subset=['cal_lum'],inplace=True)"
   ]
  },
  {
   "cell_type": "code",
   "execution_count": 10,
   "metadata": {},
   "outputs": [
    {
     "data": {
      "image/png": "[encoded data removed]",
      "text/plain": [
       "<Figure size 720x720 with 1 Axes>"
      ]
     },
     "metadata": {
      "needs_background": "light"
     },
     "output_type": "display_data"
    }
   ],
   "source": [
    "#apply cut that removes RGB stars\n",
    "step8_df['value'] = 10*np.log10(step8_df['Teff'])-np.log10(step8_df['cal_lum'])-35.5\n",
    "cut_df = step8_df[step8_df['value']>0].copy()\n",
    "\n",
    "#plotting cluster to count number of blue stragglers, and other stars to remove\n",
    "plotCluster(cut_df, plot_gaia=True)"
   ]
  },
  {
   "cell_type": "code",
   "execution_count": 15,
   "metadata": {},
   "outputs": [
    {
     "name": "stdout",
     "output_type": "stream",
     "text": [
      "23\n"
     ]
    },
    {
     "data": {
      "image/png": "[encoded data removed]",
      "text/plain": [
       "<Figure size 720x720 with 1 Axes>"
      ]
     },
     "metadata": {
      "needs_background": "light"
     },
     "output_type": "display_data"
    }
   ],
   "source": [
    "#removing blue stragglers\n",
    "#no blue stragglers\n",
    "step9_df = cut_df.copy()\n",
    "\n",
    "#removing other weird stars\n",
    "step9_df = removeStars(step9_df, 3.625, 0.2,1)\n",
    "step9_df = removeStars(step9_df, 3.66, -0.2,1)\n",
    "step9_df = removeStars(step9_df, 3.68, -0.2,1)\n",
    "step9_df = removeStars(step9_df, 3.75, -0.3,1)\n",
    "step9_df = removeStars(step9_df, 3.76, -0.18,1)\n",
    "step9_df = removeStars(step9_df, 3.74, 0,1)\n",
    "\n",
    "print(len(step9_df.index))\n",
    "plotCluster(step9_df, plot_gaia=False, plot_train=False, grid_path='grid2_early.csv')"
   ]
  },
  {
   "cell_type": "code",
   "execution_count": 16,
   "metadata": {},
   "outputs": [],
   "source": [
    "#save data to csv\n",
    "step9_df.to_csv(f'{OC}/{OC}_final.csv',index=False)"
   ]
  },
  {
   "cell_type": "code",
   "execution_count": 22,
   "metadata": {},
   "outputs": [
    {
     "data": {
      "image/png": "[encoded data removed]",
      "text/plain": [
       "<Figure size 720x720 with 1 Axes>"
      ]
     },
     "metadata": {
      "needs_background": "light"
     },
     "output_type": "display_data"
    }
   ],
   "source": [
    "def prepPlot(df, colour, label):\n",
    "    log_cal_lum_err = df['cal_lum_err']/(df['cal_lum']*np.log(10))\n",
    "    log_Teff_err = df['Teff_err']/(df['Teff']*np.log(10))\n",
    "    ax.errorbar(np.log10(df['Teff']), np.log10(df['cal_lum']), xerr=log_Teff_err, yerr=log_cal_lum_err, fmt='.', zorder=2, c='black')\n",
    "    ax.scatter(np.log10(df['Teff']), np.log10(df['cal_lum']), s=15, zorder=3, c=colour, label=label)\n",
    "\n",
    "M67_df = pd.read_csv('NGC_2682/NGC_2682_final.csv')\n",
    "NGC6791_df = pd.read_csv('NGC_6791/NGC_6791_final.csv')\n",
    "NGC6819_df = pd.read_csv('NGC_6819/NGC_6819_final.csv')\n",
    "NGC2158_df = pd.read_csv('NGC_2158/NGC_2158_final.csv')\n",
    "Ruprecht147_df = pd.read_csv('Ruprecht_147/Ruprecht_147_final.csv')\n",
    "NGC6811_df = pd.read_csv('NGC_6811/NGC_6811_final.csv')\n",
    "NGC752_df = pd.read_csv('NGC_752/NGC_752_final.csv')\n",
    "NGC188_df = pd.read_csv('NGC_188/NGC_188_final.csv')\n",
    "\n",
    "fig, ax=plt.subplots(1,1, figsize=(10,10))\n",
    "train_df = pd.read_csv('grid2_early.csv')\n",
    "points = train_df\n",
    "ax.scatter(np.log10(points['effective_T']),np.log10(points['luminosity']), s=5, zorder=0, c='lightgrey',label='training data')\n",
    "prepPlot(M67_df, 'blue', 'M67')\n",
    "prepPlot(NGC6791_df, 'red', 'NGC6791')\n",
    "prepPlot(NGC6819_df, 'green', 'NGC6819')\n",
    "prepPlot(NGC2158_df, 'yellow', 'NGC2158')\n",
    "prepPlot(Ruprecht147_df, 'cyan', 'Ruprecht147')\n",
    "prepPlot(NGC6811_df, 'darkviolet', 'NGC6811')\n",
    "prepPlot(NGC752_df, 'orange', 'NGC752')\n",
    "prepPlot(NGC188_df, 'lime', 'NGC188')\n",
    "\n",
    "ax.set_xlim(ax.get_xlim()[::-1])\n",
    "ax.set_xlabel(r'$\\log10 T_{eff}$')\n",
    "ax.set_ylabel(r'$\\log10(L/L_{\\odot})$')\n",
    "ax.legend()\n",
    "ax.grid()\n",
    "plt.show()"
   ]
  },
  {
   "cell_type": "code",
   "execution_count": 28,
   "metadata": {},
   "outputs": [
    {
     "data": {
      "text/html": [
       "<div>\n",
       "<style scoped>\n",
       "    .dataframe tbody tr th:only-of-type {\n",
       "        vertical-align: middle;\n",
       "    }\n",
       "\n",
       "    .dataframe tbody tr th {\n",
       "        vertical-align: top;\n",
       "    }\n",
       "\n",
       "    .dataframe thead th {\n",
       "        text-align: right;\n",
       "    }\n",
       "</style>\n",
       "<table border=\"1\" class=\"dataframe\">\n",
       "  <thead>\n",
       "    <tr style=\"text-align: right;\">\n",
       "      <th></th>\n",
       "      <th>name</th>\n",
       "      <th>age</th>\n",
       "      <th>age_hi</th>\n",
       "      <th>age_lo</th>\n",
       "    </tr>\n",
       "  </thead>\n",
       "  <tbody>\n",
       "    <tr>\n",
       "      <th>8</th>\n",
       "      <td>Melotte71</td>\n",
       "      <td>1.294196e+09</td>\n",
       "      <td>1.352073e+09</td>\n",
       "      <td>1.205036e+09</td>\n",
       "    </tr>\n",
       "    <tr>\n",
       "      <th>9</th>\n",
       "      <td>NGC0188</td>\n",
       "      <td>7.533556e+09</td>\n",
       "      <td>7.550922e+09</td>\n",
       "      <td>7.516229e+09</td>\n",
       "    </tr>\n",
       "    <tr>\n",
       "      <th>10</th>\n",
       "      <td>NGC0752</td>\n",
       "      <td>1.479108e+09</td>\n",
       "      <td>1.485936e+09</td>\n",
       "      <td>1.475707e+09</td>\n",
       "    </tr>\n",
       "    <tr>\n",
       "      <th>19</th>\n",
       "      <td>NGC2420</td>\n",
       "      <td>1.866380e+09</td>\n",
       "      <td>1.887991e+09</td>\n",
       "      <td>1.655770e+09</td>\n",
       "    </tr>\n",
       "    <tr>\n",
       "      <th>21</th>\n",
       "      <td>NGC2425</td>\n",
       "      <td>2.152782e+09</td>\n",
       "      <td>2.157744e+09</td>\n",
       "      <td>2.147830e+09</td>\n",
       "    </tr>\n",
       "    <tr>\n",
       "      <th>31</th>\n",
       "      <td>NGC2682</td>\n",
       "      <td>3.639150e+09</td>\n",
       "      <td>3.655948e+09</td>\n",
       "      <td>3.622430e+09</td>\n",
       "    </tr>\n",
       "    <tr>\n",
       "      <th>41</th>\n",
       "      <td>NGC6791</td>\n",
       "      <td>8.452788e+09</td>\n",
       "      <td>8.491805e+09</td>\n",
       "      <td>8.413951e+09</td>\n",
       "    </tr>\n",
       "    <tr>\n",
       "      <th>43</th>\n",
       "      <td>NGC6819</td>\n",
       "      <td>1.999862e+09</td>\n",
       "      <td>2.004472e+09</td>\n",
       "      <td>1.999862e+09</td>\n",
       "    </tr>\n",
       "    <tr>\n",
       "      <th>49</th>\n",
       "      <td>Czernik27</td>\n",
       "      <td>1.161449e+09</td>\n",
       "      <td>1.213389e+09</td>\n",
       "      <td>1.104079e+09</td>\n",
       "    </tr>\n",
       "    <tr>\n",
       "      <th>74</th>\n",
       "      <td>NGC6208</td>\n",
       "      <td>1.671091e+09</td>\n",
       "      <td>1.698244e+09</td>\n",
       "      <td>1.667247e+09</td>\n",
       "    </tr>\n",
       "    <tr>\n",
       "      <th>78</th>\n",
       "      <td>NGC6940</td>\n",
       "      <td>1.023293e+09</td>\n",
       "      <td>4.688134e+09</td>\n",
       "      <td>9.484185e+08</td>\n",
       "    </tr>\n",
       "    <tr>\n",
       "      <th>139</th>\n",
       "      <td>Czernik12</td>\n",
       "      <td>1.096478e+09</td>\n",
       "      <td>6.382635e+09</td>\n",
       "      <td>1.030386e+09</td>\n",
       "    </tr>\n",
       "    <tr>\n",
       "      <th>144</th>\n",
       "      <td>ESO36811</td>\n",
       "      <td>1.025652e+09</td>\n",
       "      <td>1.071519e+09</td>\n",
       "      <td>9.794900e+08</td>\n",
       "    </tr>\n",
       "    <tr>\n",
       "      <th>149</th>\n",
       "      <td>FSR0866</td>\n",
       "      <td>1.798871e+09</td>\n",
       "      <td>1.862087e+09</td>\n",
       "      <td>1.690441e+09</td>\n",
       "    </tr>\n",
       "    <tr>\n",
       "      <th>155</th>\n",
       "      <td>FSR1211</td>\n",
       "      <td>1.066596e+09</td>\n",
       "      <td>1.081434e+09</td>\n",
       "      <td>1.049542e+09</td>\n",
       "    </tr>\n",
       "    <tr>\n",
       "      <th>160</th>\n",
       "      <td>Gulliver1</td>\n",
       "      <td>1.422329e+09</td>\n",
       "      <td>1.465548e+09</td>\n",
       "      <td>1.071519e+09</td>\n",
       "    </tr>\n",
       "    <tr>\n",
       "      <th>164</th>\n",
       "      <td>Gulliver36</td>\n",
       "      <td>1.129796e+09</td>\n",
       "      <td>1.210598e+09</td>\n",
       "      <td>1.049542e+09</td>\n",
       "    </tr>\n",
       "    <tr>\n",
       "      <th>165</th>\n",
       "      <td>Gulliver44</td>\n",
       "      <td>1.520548e+09</td>\n",
       "      <td>1.592209e+09</td>\n",
       "      <td>1.435489e+09</td>\n",
       "    </tr>\n",
       "    <tr>\n",
       "      <th>172</th>\n",
       "      <td>Haffner22</td>\n",
       "      <td>1.887991e+09</td>\n",
       "      <td>1.896706e+09</td>\n",
       "      <td>1.883649e+09</td>\n",
       "    </tr>\n",
       "  </tbody>\n",
       "</table>\n",
       "</div>"
      ],
      "text/plain": [
       "           name           age        age_hi        age_lo\n",
       "8     Melotte71  1.294196e+09  1.352073e+09  1.205036e+09\n",
       "9       NGC0188  7.533556e+09  7.550922e+09  7.516229e+09\n",
       "10      NGC0752  1.479108e+09  1.485936e+09  1.475707e+09\n",
       "19      NGC2420  1.866380e+09  1.887991e+09  1.655770e+09\n",
       "21      NGC2425  2.152782e+09  2.157744e+09  2.147830e+09\n",
       "31      NGC2682  3.639150e+09  3.655948e+09  3.622430e+09\n",
       "41      NGC6791  8.452788e+09  8.491805e+09  8.413951e+09\n",
       "43      NGC6819  1.999862e+09  2.004472e+09  1.999862e+09\n",
       "49    Czernik27  1.161449e+09  1.213389e+09  1.104079e+09\n",
       "74      NGC6208  1.671091e+09  1.698244e+09  1.667247e+09\n",
       "78      NGC6940  1.023293e+09  4.688134e+09  9.484185e+08\n",
       "139   Czernik12  1.096478e+09  6.382635e+09  1.030386e+09\n",
       "144    ESO36811  1.025652e+09  1.071519e+09  9.794900e+08\n",
       "149     FSR0866  1.798871e+09  1.862087e+09  1.690441e+09\n",
       "155     FSR1211  1.066596e+09  1.081434e+09  1.049542e+09\n",
       "160   Gulliver1  1.422329e+09  1.465548e+09  1.071519e+09\n",
       "164  Gulliver36  1.129796e+09  1.210598e+09  1.049542e+09\n",
       "165  Gulliver44  1.520548e+09  1.592209e+09  1.435489e+09\n",
       "172   Haffner22  1.887991e+09  1.896706e+09  1.883649e+09"
      ]
     },
     "execution_count": 28,
     "metadata": {},
     "output_type": "execute_result"
    }
   ],
   "source": [
    "lines = open('DBossini_ages.txt','r').read().split('\\n')\n",
    "names = []\n",
    "ages = []\n",
    "age_hi = []\n",
    "age_lo = []\n",
    "for line in lines:\n",
    "    line_data=line.split()\n",
    "    names.append(line_data[0])\n",
    "    ages.append(10**float(line_data[3]))\n",
    "    age_lo.append(10**float(line_data[5]))\n",
    "    age_hi.append(10**float(line_data[4]))\n",
    "Bossini_df = pd.DataFrame({'name':names, 'age':ages, 'age_hi':age_hi, 'age_lo':age_lo})\n",
    "Bossini_df[Bossini_df['age']>10**9]"
   ]
  },
  {
   "cell_type": "code",
   "execution_count": null,
   "metadata": {},
   "outputs": [],
   "source": []
  }
 ],
 "metadata": {
  "kernelspec": {
   "display_name": "Python 3",
   "language": "python",
   "name": "python3"
  },
  "language_info": {
   "codemirror_mode": {
    "name": "ipython",
    "version": 3
   },
   "file_extension": ".py",
   "mimetype": "text/x-python",
   "name": "python",
   "nbconvert_exporter": "python",
   "pygments_lexer": "ipython3",
   "version": "3.7.3"
  }
 },
 "nbformat": 4,
 "nbformat_minor": 2
}
