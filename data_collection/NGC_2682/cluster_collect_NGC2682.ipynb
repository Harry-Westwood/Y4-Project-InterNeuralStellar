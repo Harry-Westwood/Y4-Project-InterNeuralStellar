{
 "cells": [
  {
   "cell_type": "code",
   "execution_count": 1,
   "metadata": {},
   "outputs": [
    {
     "name": "stderr",
     "output_type": "stream",
     "text": [
      "C:\\Users\\User\\Anaconda3\\lib\\site-packages\\statsmodels\\tools\\_testing.py:19: FutureWarning: pandas.util.testing is deprecated. Use the functions in the public API at pandas.testing instead.\n",
      "  import pandas.util.testing as tm\n"
     ]
    },
    {
     "name": "stdout",
     "output_type": "stream",
     "text": [
      "Created TAP+ (v1.2.1) - Connection:\n",
      "\tHost: gea.esac.esa.int\n",
      "\tUse HTTPS: True\n",
      "\tPort: 443\n",
      "\tSSL Port: 443\n",
      "Created TAP+ (v1.2.1) - Connection:\n",
      "\tHost: geadata.esac.esa.int\n",
      "\tUse HTTPS: True\n",
      "\tPort: 443\n",
      "\tSSL Port: 443\n"
     ]
    }
   ],
   "source": [
    "import pandas as pd\n",
    "import numpy as np\n",
    "import seaborn as sns\n",
    "import matplotlib.pyplot as plt\n",
    "from dataCollection import *"
   ]
  },
  {
   "cell_type": "code",
   "execution_count": 2,
   "metadata": {},
   "outputs": [],
   "source": [
    "OC = 'NGC_2682'"
   ]
  },
  {
   "cell_type": "code",
   "execution_count": 3,
   "metadata": {},
   "outputs": [
    {
     "name": "stderr",
     "output_type": "stream",
     "text": [
      "C:\\Users\\User\\Anaconda3\\lib\\site-packages\\ipykernel_launcher.py:2: TableReplaceWarning: converted column 'r_result_flag' from integer to float\n",
      "  \n",
      "C:\\Users\\User\\Anaconda3\\lib\\site-packages\\ipykernel_launcher.py:2: TableReplaceWarning: converted column 'r_modality_flag' from integer to float\n",
      "  \n",
      "C:\\Users\\User\\Anaconda3\\lib\\site-packages\\ipykernel_launcher.py:2: TableReplaceWarning: converted column 'k2_kepmagerr' from integer to float\n",
      "  \n"
     ]
    },
    {
     "name": "stdout",
     "output_type": "stream",
     "text": [
      "Found 328589 matching APOGEE and GAIA stars.\n",
      "2609 of those stars have Teff data.\n",
      "There is 1502 stars in the membership paper.\n",
      "Simbad input txt file saved as \"NGC_2682/NGC_2682_simbad_input.txt\".\n",
      "Launching GAIA query...\n"
     ]
    },
    {
     "name": "stderr",
     "output_type": "stream",
     "text": [
      "WARNING: W35: None:5:0: W35: 'value' attribute required for INFO elements [astropy.io.votable.tree]\n",
      "WARNING: W35: None:6:0: W35: 'value' attribute required for INFO elements [astropy.io.votable.tree]\n",
      "WARNING: W35: None:7:0: W35: 'value' attribute required for INFO elements [astropy.io.votable.tree]\n",
      "WARNING: W35: None:8:0: W35: 'value' attribute required for INFO elements [astropy.io.votable.tree]\n",
      "WARNING: W35: None:10:0: W35: 'value' attribute required for INFO elements [astropy.io.votable.tree]\n",
      "WARNING: W50: None:19:0: W50: Invalid unit string ''electron'.s**-1' [astropy.io.votable.tree]\n",
      "WARNING: W50: None:22:0: W50: Invalid unit string ''electron'.s**-1' [astropy.io.votable.tree]\n",
      "WARNING: W06: None:31:0: W06: Invalid UCD 'phys.luminosity;stat.error': Primary word 'stat.error' is not valid as a secondary word [astropy.io.votable.tree]\n",
      "WARNING"
     ]
    },
    {
     "name": "stdout",
     "output_type": "stream",
     "text": [
      "Obtained 1502 out of 1502 stars in the cluster.\n",
      "Matching APOGEE Teffs to queried GAIA stars\n",
      "Found 29 matching stars with APOGEE Teff data.\n"
     ]
    },
    {
     "name": "stderr",
     "output_type": "stream",
     "text": [
      ": W06: None:34:0: W06: Invalid UCD 'phys.luminosity;stat.error': Primary word 'stat.error' is not valid as a secondary word [astropy.io.votable.tree]\n"
     ]
    }
   ],
   "source": [
    "#step0: match apogee data with gaia data\n",
    "apogee_Teff = matchApogeeGaia('k2')\n",
    "\n",
    "#step 1: get members in gaia IDs and write a simbad input file\n",
    "gaia_IDs, member_df = genSimbad(OC, \"{}/{}_simbad_input.txt\".format(OC,OC))\n",
    "\n",
    "#step 2: astroquery for gaia Gband mags, luminosities and distances\n",
    "gaia_df = GAIA_query(gaia_IDs)\n",
    "\n",
    "#step 3: merging apogee_gaia df with gaia_df\n",
    "step3_df = mergeApogee(gaia_df, apogee_Teff)"
   ]
  },
  {
   "cell_type": "code",
   "execution_count": 4,
   "metadata": {
    "scrolled": true
   },
   "outputs": [
    {
     "name": "stdout",
     "output_type": "stream",
     "text": [
      "Reading SIMBAD output and merging it to GAIA+APOGEE data...\n",
      "found 1502 matching IDs\n",
      "155 stars have Teff data\n",
      "Found Teff for 163 stars between SIMBAD and APOGEE.\n",
      "Matching in membership data and applying membership cut...\n",
      "163/163 stars are taken as cluster members\n",
      "Using APOGEE Teff for 29 stars.\n",
      "There are 51 stars without APOGEE data and have Teff provided by only one paper.\n",
      "Picking Teff automatically for 73 stars, 10 stars require manual picking.\n"
     ]
    },
    {
     "name": "stderr",
     "output_type": "stream",
     "text": [
      "C:\\Users\\User\\Documents\\UoB physics stuff\\year 4\\FYP\\Simbad\\dataCollection.py:264: SettingWithCopyWarning: \n",
      "A value is trying to be set on a copy of a slice from a DataFrame\n",
      "\n",
      "See the caveats in the documentation: https://pandas.pydata.org/pandas-docs/stable/user_guide/indexing.html#returning-a-view-versus-a-copy\n",
      "  df['Teff'][i] = paper[0]\n",
      "C:\\Users\\User\\Documents\\UoB physics stuff\\year 4\\FYP\\Simbad\\dataCollection.py:265: SettingWithCopyWarning: \n",
      "A value is trying to be set on a copy of a slice from a DataFrame\n",
      "\n",
      "See the caveats in the documentation: https://pandas.pydata.org/pandas-docs/stable/user_guide/indexing.html#returning-a-view-versus-a-copy\n",
      "  df['ref'][i] = paper[2]\n"
     ]
    },
    {
     "data": {
      "text/html": [
       "<div>\n",
       "<style scoped>\n",
       "    .dataframe tbody tr th:only-of-type {\n",
       "        vertical-align: middle;\n",
       "    }\n",
       "\n",
       "    .dataframe tbody tr th {\n",
       "        vertical-align: top;\n",
       "    }\n",
       "\n",
       "    .dataframe thead th {\n",
       "        text-align: right;\n",
       "    }\n",
       "</style>\n",
       "<table border=\"1\" class=\"dataframe\">\n",
       "  <thead>\n",
       "    <tr style=\"text-align: right;\">\n",
       "      <th></th>\n",
       "      <th>ref</th>\n",
       "      <th>count</th>\n",
       "    </tr>\n",
       "  </thead>\n",
       "  <tbody>\n",
       "    <tr>\n",
       "      <th>0</th>\n",
       "      <td>2011AJ....141...89S</td>\n",
       "      <td>68.0</td>\n",
       "    </tr>\n",
       "    <tr>\n",
       "      <th>1</th>\n",
       "      <td>2013AJ....146..134K</td>\n",
       "      <td>15.0</td>\n",
       "    </tr>\n",
       "    <tr>\n",
       "      <th>2</th>\n",
       "      <td>2016A&amp;A...589A.115S</td>\n",
       "      <td>15.0</td>\n",
       "    </tr>\n",
       "    <tr>\n",
       "      <th>3</th>\n",
       "      <td>2011AJ....142...59J</td>\n",
       "      <td>8.0</td>\n",
       "    </tr>\n",
       "    <tr>\n",
       "      <th>4</th>\n",
       "      <td>2009A&amp;A...493..309S</td>\n",
       "      <td>5.0</td>\n",
       "    </tr>\n",
       "    <tr>\n",
       "      <th>5</th>\n",
       "      <td>2000AJ....120.1913S</td>\n",
       "      <td>4.0</td>\n",
       "    </tr>\n",
       "    <tr>\n",
       "      <th>6</th>\n",
       "      <td>2006A&amp;A...450..557R</td>\n",
       "      <td>4.0</td>\n",
       "    </tr>\n",
       "    <tr>\n",
       "      <th>7</th>\n",
       "      <td>2012A&amp;A...538A.143K</td>\n",
       "      <td>2.0</td>\n",
       "    </tr>\n",
       "    <tr>\n",
       "      <th>8</th>\n",
       "      <td>2018A&amp;A...620A..58S</td>\n",
       "      <td>1.0</td>\n",
       "    </tr>\n",
       "    <tr>\n",
       "      <th>9</th>\n",
       "      <td>2018MNRAS.480.4314B</td>\n",
       "      <td>1.0</td>\n",
       "    </tr>\n",
       "    <tr>\n",
       "      <th>10</th>\n",
       "      <td>2016ApJ...823..114N</td>\n",
       "      <td>1.0</td>\n",
       "    </tr>\n",
       "  </tbody>\n",
       "</table>\n",
       "</div>"
      ],
      "text/plain": [
       "                    ref  count\n",
       "0   2011AJ....141...89S   68.0\n",
       "1   2013AJ....146..134K   15.0\n",
       "2   2016A&A...589A.115S   15.0\n",
       "3   2011AJ....142...59J    8.0\n",
       "4   2009A&A...493..309S    5.0\n",
       "5   2000AJ....120.1913S    4.0\n",
       "6   2006A&A...450..557R    4.0\n",
       "7   2012A&A...538A.143K    2.0\n",
       "8   2018A&A...620A..58S    1.0\n",
       "9   2018MNRAS.480.4314B    1.0\n",
       "10  2016ApJ...823..114N    1.0"
      ]
     },
     "execution_count": 4,
     "metadata": {},
     "output_type": "execute_result"
    }
   ],
   "source": [
    "#step 4: read simbad output file and combine it to step3_df\n",
    "step4_df = readSimbad(f'{OC}/{OC}_simbad_output.txt',step3_df)\n",
    "\n",
    "#step 5: matching back in ra, dec and membership prob from membership paper, and apply membership cut for total membership>99%\n",
    "step5_df = membershipCut(step4_df, member_df)\n",
    "\n",
    "#step 6: Teff selection: 1.apogee, 2.singulars, 3.take away problematics, \n",
    "# 4.apply most widespread source of Teff until all multiples have Teff, 5.manual picking of problematics\n",
    "assigned_df, problematic_df, final_ranks = assignTeff(step5_df)\n",
    "final_ranks"
   ]
  },
  {
   "cell_type": "code",
   "execution_count": 5,
   "metadata": {},
   "outputs": [
    {
     "name": "stdout",
     "output_type": "stream",
     "text": [
      "Star 1/10, GAIA ID: 604910860486613632\n",
      "\u001b[1m0: 6508.0 2013AJ....146..134K 15 entries\u001b[0m\n",
      "1: 5741.0 2011AJ....141...89S 68 entries\n",
      "2: 5825.0 2008AJ....136.2050L 0 entries\n",
      "Teff choice?1\n"
     ]
    },
    {
     "name": "stderr",
     "output_type": "stream",
     "text": [
      "C:\\Users\\User\\Documents\\UoB physics stuff\\year 4\\FYP\\Simbad\\dataCollection.py:295: SettingWithCopyWarning: \n",
      "A value is trying to be set on a copy of a slice from a DataFrame\n",
      "\n",
      "See the caveats in the documentation: https://pandas.pydata.org/pandas-docs/stable/user_guide/indexing.html#returning-a-view-versus-a-copy\n",
      "  df['Teff'][i] = Teff[decision_index]\n",
      "C:\\Users\\User\\Documents\\UoB physics stuff\\year 4\\FYP\\Simbad\\dataCollection.py:296: SettingWithCopyWarning: \n",
      "A value is trying to be set on a copy of a slice from a DataFrame\n",
      "\n",
      "See the caveats in the documentation: https://pandas.pydata.org/pandas-docs/stable/user_guide/indexing.html#returning-a-view-versus-a-copy\n",
      "  df['ref'][i] = ref[decision_index]\n"
     ]
    },
    {
     "name": "stdout",
     "output_type": "stream",
     "text": [
      "\n",
      "Star 2/10, GAIA ID: 604911337227185920\n",
      "0: 5963.0 2018MNRAS.480.4314B 1 entries\n",
      "\u001b[1m1: 6170.0 2000AJ....120.1913S 4 entries\u001b[0m\n",
      "Teff choice?1\n",
      "\n",
      "Star 3/10, GAIA ID: 604911375882674560\n",
      "0: 4250.0 2000A&A...360..499T 0 entries\n",
      "1: 4200.0 2005AJ....130..597Y 0 entries\n",
      "\u001b[1m2: 4353.0 2013AJ....146..134K 15 entries\u001b[0m\n",
      "3: 4200.0 2011AJ....142...59J 8 entries\n",
      "4: 4186.0 2011A&A...531A.165P 0 entries\n",
      "Teff choice?4\n",
      "\n",
      "Star 4/10, GAIA ID: 604914949295282816\n",
      "\u001b[1m0: 5970.0 2018A&A...620A..58S 1 entries\u001b[0m\n",
      "1: 5759.0 2016A&A...589A.115S 15 entries\n",
      "2: 5780.0 2014A&A...562A.102O 0 entries\n",
      "3: 5810.0 2011AJ....141...89S 68 entries\n",
      "4: 5884.0 2008AJ....136.2050L 0 entries\n",
      "Teff choice?3\n",
      "\n",
      "Star 5/10, GAIA ID: 604917285757662592\n",
      "\u001b[1m0: 6151.0 2006A&A...450..557R 4 entries\u001b[0m\n",
      "1: 5846.0 2013AJ....146..134K 15 entries\n",
      "Teff choice?1\n",
      "\n",
      "Star 6/10, GAIA ID: 604917487620349184\n",
      "\u001b[1m0: 6223.0 2006A&A...450..557R 4 entries\u001b[0m\n",
      "1: 5729.0 2013AJ....146..134K 15 entries\n",
      "Teff choice?1\n",
      "\n",
      "Star 7/10, GAIA ID: 604917594995372544\n",
      "0: 4450.0 2000A&A...360..499T 0 entries\n",
      "1: 4400.0 2010AJ....139.1942F 0 entries\n",
      "2: 4390.0 2005AJ....130..597Y 0 entries\n",
      "3: 4450.0 2013AJ....145..107J 0 entries\n",
      "\u001b[1m4: 4523.0 2013AJ....146..134K 15 entries\u001b[0m\n",
      "5: 4400.0 2011AJ....142...59J 8 entries\n",
      "Teff choice?5\n",
      "\n",
      "Star 8/10, GAIA ID: 604918144751101440\n",
      "\u001b[1m0: 4812.0 2009A&A...493..309S 5 entries\u001b[0m\n",
      "1: 4700.0 2000A&A...360..499T 0 entries\n",
      "2: 4650.0 2013MNRAS.431.3338R 0 entries\n",
      "3: 4717.0 2016A&A...594A..43H 0 entries\n",
      "4: 4740.0 2016ApJ...823..114N 1 entries\n",
      "5: 4691.0 2013AJ....146..133M 0 entries\n",
      "Teff choice?4\n",
      "\n",
      "Star 9/10, GAIA ID: 604920202039656064\n",
      "\u001b[1m0: 4862.0 2009A&A...493..309S 5 entries\u001b[0m\n",
      "1: 4730.0 2000A&A...360..499T 0 entries\n",
      "2: 4786.0 2016A&A...594A..43H 0 entries\n",
      "3: 4778.0 2016ApJ...823..114N 1 entries\n",
      "4: 4729.0 2013AJ....146..133M 0 entries\n",
      "5: 4700.0 2011AJ....142...59J 8 entries\n",
      "Teff choice?3\n",
      "\n",
      "Star 10/10, GAIA ID: 604970783870102656\n",
      "0: 5646.0 2013AJ....146..134K 15 entries\n",
      "1: 5927.0 2011AJ....141...89S 68 entries\n",
      "\u001b[1m2: 6043.0 2008AJ....136.2050L 0 entries\u001b[0m\n",
      "Teff choice?1\n",
      "\n"
     ]
    }
   ],
   "source": [
    "#manual assigning of problematic Teffs\n",
    "problematic_df = replaceManual(problematic_df, final_ranks)\n",
    "step6_df = pd.concat([assigned_df,problematic_df])\n",
    "step6_df.sort_index(inplace=True)"
   ]
  },
  {
   "cell_type": "code",
   "execution_count": 6,
   "metadata": {},
   "outputs": [
    {
     "data": {
      "text/html": [
       "<div>\n",
       "<style scoped>\n",
       "    .dataframe tbody tr th:only-of-type {\n",
       "        vertical-align: middle;\n",
       "    }\n",
       "\n",
       "    .dataframe tbody tr th {\n",
       "        vertical-align: top;\n",
       "    }\n",
       "\n",
       "    .dataframe thead th {\n",
       "        text-align: right;\n",
       "    }\n",
       "</style>\n",
       "<table border=\"1\" class=\"dataframe\">\n",
       "  <thead>\n",
       "    <tr style=\"text-align: right;\">\n",
       "      <th></th>\n",
       "      <th>ref</th>\n",
       "      <th>count</th>\n",
       "    </tr>\n",
       "  </thead>\n",
       "  <tbody>\n",
       "    <tr>\n",
       "      <th>0</th>\n",
       "      <td>2011AJ....141...89S</td>\n",
       "      <td>71.0</td>\n",
       "    </tr>\n",
       "    <tr>\n",
       "      <th>1</th>\n",
       "      <td>apogee</td>\n",
       "      <td>29.0</td>\n",
       "    </tr>\n",
       "    <tr>\n",
       "      <th>2</th>\n",
       "      <td>2013AJ....146..134K</td>\n",
       "      <td>17.0</td>\n",
       "    </tr>\n",
       "    <tr>\n",
       "      <th>3</th>\n",
       "      <td>2016A&amp;A...589A.115S</td>\n",
       "      <td>15.0</td>\n",
       "    </tr>\n",
       "    <tr>\n",
       "      <th>4</th>\n",
       "      <td>2011AJ....142...59J</td>\n",
       "      <td>9.0</td>\n",
       "    </tr>\n",
       "    <tr>\n",
       "      <th>5</th>\n",
       "      <td>2000AJ....120.1913S</td>\n",
       "      <td>5.0</td>\n",
       "    </tr>\n",
       "    <tr>\n",
       "      <th>6</th>\n",
       "      <td>2009A&amp;A...493..309S</td>\n",
       "      <td>5.0</td>\n",
       "    </tr>\n",
       "    <tr>\n",
       "      <th>7</th>\n",
       "      <td>2006A&amp;A...450..557R</td>\n",
       "      <td>4.0</td>\n",
       "    </tr>\n",
       "    <tr>\n",
       "      <th>8</th>\n",
       "      <td>2016ApJ...823..114N</td>\n",
       "      <td>3.0</td>\n",
       "    </tr>\n",
       "    <tr>\n",
       "      <th>9</th>\n",
       "      <td>2012A&amp;A...538A.143K</td>\n",
       "      <td>2.0</td>\n",
       "    </tr>\n",
       "    <tr>\n",
       "      <th>10</th>\n",
       "      <td>2018A&amp;A...620A..58S</td>\n",
       "      <td>1.0</td>\n",
       "    </tr>\n",
       "    <tr>\n",
       "      <th>11</th>\n",
       "      <td>2011A&amp;A...531A.165P</td>\n",
       "      <td>1.0</td>\n",
       "    </tr>\n",
       "    <tr>\n",
       "      <th>12</th>\n",
       "      <td>2018MNRAS.480.4314B</td>\n",
       "      <td>1.0</td>\n",
       "    </tr>\n",
       "  </tbody>\n",
       "</table>\n",
       "</div>"
      ],
      "text/plain": [
       "                    ref  count\n",
       "0   2011AJ....141...89S   71.0\n",
       "1                apogee   29.0\n",
       "2   2013AJ....146..134K   17.0\n",
       "3   2016A&A...589A.115S   15.0\n",
       "4   2011AJ....142...59J    9.0\n",
       "5   2000AJ....120.1913S    5.0\n",
       "6   2009A&A...493..309S    5.0\n",
       "7   2006A&A...450..557R    4.0\n",
       "8   2016ApJ...823..114N    3.0\n",
       "9   2012A&A...538A.143K    2.0\n",
       "10  2018A&A...620A..58S    1.0\n",
       "11  2011A&A...531A.165P    1.0\n",
       "12  2018MNRAS.480.4314B    1.0"
      ]
     },
     "execution_count": 6,
     "metadata": {},
     "output_type": "execute_result"
    }
   ],
   "source": [
    "#listing all papers to google\n",
    "countUniqueRefs(step6_df, column='ref')"
   ]
  },
  {
   "cell_type": "code",
   "execution_count": 7,
   "metadata": {},
   "outputs": [
    {
     "name": "stderr",
     "output_type": "stream",
     "text": [
      "C:\\Users\\User\\Documents\\UoB physics stuff\\year 4\\FYP\\Simbad\\dataCollection.py:451: SettingWithCopyWarning: \n",
      "A value is trying to be set on a copy of a slice from a DataFrame\n",
      "\n",
      "See the caveats in the documentation: https://pandas.pydata.org/pandas-docs/stable/user_guide/indexing.html#returning-a-view-versus-a-copy\n",
      "  df['Teff_err'][i]=Teff_err[j]\n",
      "C:\\Users\\User\\Documents\\UoB physics stuff\\year 4\\FYP\\Simbad\\dataCollection.py:457: SettingWithCopyWarning: \n",
      "A value is trying to be set on a copy of a slice from a DataFrame\n",
      "\n",
      "See the caveats in the documentation: https://pandas.pydata.org/pandas-docs/stable/user_guide/indexing.html#returning-a-view-versus-a-copy\n",
      "  df['Teff_err'][i] = list(suspect_df['Teff_err'])[np.argmin(angular_dist)]\n",
      "C:\\Users\\User\\Documents\\UoB physics stuff\\year 4\\FYP\\Simbad\\dataCollection.py:464: SettingWithCopyWarning: \n",
      "A value is trying to be set on a copy of a slice from a DataFrame\n",
      "\n",
      "See the caveats in the documentation: https://pandas.pydata.org/pandas-docs/stable/user_guide/indexing.html#returning-a-view-versus-a-copy\n",
      "  df['Teff_err'][i] = suspect_df['Teff_err']\n",
      "C:\\Users\\User\\Documents\\UoB physics stuff\\year 4\\FYP\\Simbad\\dataCollection.py:467: SettingWithCopyWarning: \n",
      "A value is trying to be set on a copy of a slice from a DataFrame\n",
      "\n",
      "See the caveats in the documentation: https://pandas.pydata.org/pandas-docs/stable/user_guide/indexing.html#returning-a-view-versus-a-copy\n",
      "  df['Teff_err'][i] = list(suspect_df['Teff_err'])[np.argmin(angular_dist)]\n"
     ]
    },
    {
     "name": "stdout",
     "output_type": "stream",
     "text": [
      "Warning: Found 0 matching Teff for 604896837417607808 of Teff 6063.0, using up and down 1K seach\n",
      "Warning: Found 0 matching Teff for 604903198264917504 of Teff 4998.0, using up and down 1K seach\n",
      "Warning: Found 0 matching Teff for 604903576222013952 of Teff 5107.0, using up and down 1K seach\n",
      "Warning: Found 0 matching Teff for 604906428080283776 of Teff 5548.0, using up and down 1K seach\n",
      "Warning: Found 0 matching Teff for 604907252713995008 of Teff 5251.0, using up and down 1K seach\n",
      "Warning: Found 0 matching Teff for 604908146067299712 of Teff 5254.0, using up and down 1K seach\n",
      "Warning: Found 0 matching Teff for 604914536978619520 of Teff 6514.0, using up and down 1K seach\n",
      "Warning: Found 0 matching Teff for 604915322956791168 of Teff 5810.0, using up and down 1K seach\n",
      "Warning: Found 0 matching Teff for 604915499051114496 of Teff 5794.0, using up and down 1K seach\n",
      "Warning: Found 0 matching Teff for 604916667282344576 of Teff 5406.0, using up and down 1K seach\n",
      "Warning: Found 0 matching Teff for 604917285757662592 of Teff 5846.0, using up and down 1K seach\n",
      "Warning: Found 0 matching Teff for 604917487620349184 of Teff 5729.0, using up and down 1K seach\n"
     ]
    },
    {
     "name": "stderr",
     "output_type": "stream",
     "text": [
      "C:\\Users\\User\\Documents\\UoB physics stuff\\year 4\\FYP\\Simbad\\dataCollection.py:475: SettingWithCopyWarning: \n",
      "A value is trying to be set on a copy of a slice from a DataFrame\n",
      "\n",
      "See the caveats in the documentation: https://pandas.pydata.org/pandas-docs/stable/user_guide/indexing.html#returning-a-view-versus-a-copy\n",
      "  df['Teff_err'][i]=Teff_err\n"
     ]
    }
   ],
   "source": [
    "#Matching Teff errors from papers:\n",
    "resulting_df = matchTeff_err(step6_df, '2011AJ....141...89S', OC+'/2011AJ....141...89S_Teff.txt',2,3,6,7)\n",
    "resulting_df = matchTeff_err(resulting_df, '2013AJ....146..134K', OC+'/2013AJ....146..134K_Teff.txt', 4,5,1,2)\n",
    "resulting_df = matchTeff_err(resulting_df, '2016A&A...589A.115S', OC+'/2016AA_589A_115S_Teff.txt', 0,1,2,3)\n",
    "resulting_df = fixedTeff_err(resulting_df, '2011AJ....142...59J', 200)\n",
    "resulting_df = fixedTeff_err(resulting_df, '2006A&A...450..557R', 70)\n",
    "resulting_df = fixedTeff_err(resulting_df, '2000AJ....120.1913S', 200)\n",
    "#dropping this one paper's one star due to unable to find any clue to its Teff error and it is quite \"outside\" of the main M67 isochrone\n",
    "resulting_df.drop(index=resulting_df[resulting_df['ref']=='2018MNRAS.480.4314B'].index, inplace=True)\n",
    "resulting_df = matchTeff_err(resulting_df, '2012A&A...538A.143K', OC+'/2012AA...538A.143K_Teff.txt', None,None,1,2)\n",
    "resulting_df = fixedTeff_err(resulting_df, '2016ApJ...823..114N', 200)\n",
    "resulting_df = matchTeff_err(resulting_df, '2009A&A...493..309S', OC+'/2009AA...493..309S_Teff.txt', None,None,1,2)\n",
    "#last paper only supplies one star and the star is a RGB that will be removed, so putting in 200K as placeholder\n",
    "resulting_df = fixedTeff_err(resulting_df, '2011A&A...531A.165P', 200)\n",
    "step7_df = matchTeff_err(resulting_df, '2018A&A...620A..58S', OC+'/2018AA...620A..58S_Teff.txt', None,None,0,1)"
   ]
  },
  {
   "cell_type": "code",
   "execution_count": 8,
   "metadata": {},
   "outputs": [
    {
     "name": "stdout",
     "output_type": "stream",
     "text": [
      "2.1311586016217907\n",
      "Invalid temperature 8947.0. BC has been set to Nan\n"
     ]
    }
   ],
   "source": [
    "dist = step7_df['distance']\n",
    "dist = dist[np.logical_not(np.isnan(dist))]\n",
    "dist_err = step7_df['distance_err']\n",
    "dist_err = dist_err[np.logical_not(np.isnan(dist_err))]\n",
    "mean_dist = np.sum(dist*dist_err**(-2))/np.sum(dist_err**(-2))\n",
    "mean_dist_err = np.sqrt(1/np.sum(dist_err**(-2)))\n",
    "print(mean_dist_err)\n",
    "luminosity, luminosity_err = lum_calc(OC, step7_df['g_mag'], step7_df['g_mag_err'], mean_dist, mean_dist_err, list(step7_df['Teff']), list(step7_df['Teff_err']))\n",
    "step8_df = step7_df.copy()\n",
    "step8_df['cal_lum'] = luminosity\n",
    "step8_df['cal_lum_err'] = luminosity_err\n",
    "step8_df.dropna(subset=['cal_lum'],inplace=True)"
   ]
  },
  {
   "cell_type": "code",
   "execution_count": 9,
   "metadata": {},
   "outputs": [
    {
     "data": {
      "image/png": "[encoded data removed]",
      "text/plain": [
       "<Figure size 720x720 with 1 Axes>"
      ]
     },
     "metadata": {
      "needs_background": "light"
     },
     "output_type": "display_data"
    }
   ],
   "source": [
    "#apply cut that removes RGB stars\n",
    "step8_df['value'] = 10*np.log10(step8_df['Teff'])-np.log10(step8_df['cal_lum'])-35.5\n",
    "cut_df = step8_df[step8_df['value']>0].copy()\n",
    "\n",
    "#plotting cluster to count number of blue stragglers, and other stars to remove\n",
    "plotCluster(cut_df, plot_gaia=True)"
   ]
  },
  {
   "cell_type": "code",
   "execution_count": 39,
   "metadata": {},
   "outputs": [
    {
     "name": "stdout",
     "output_type": "stream",
     "text": [
      "112\n"
     ]
    },
    {
     "data": {
      "image/png": "[encoded data removed]",
      "text/plain": [
       "<Figure size 720x720 with 1 Axes>"
      ]
     },
     "metadata": {
      "needs_background": "light"
     },
     "output_type": "display_data"
    }
   ],
   "source": [
    "def plotCluster(df, plot_gaia=False, plot_train=False, grid_path='grid2_early.csv'):\n",
    "    fig, ax=plt.subplots(1,1, figsize=(10,10))\n",
    "    log_cal_lum_err = df['cal_lum_err']/(df['cal_lum']*np.log(10))\n",
    "    log_Teff_err = df['Teff_err']/(df['Teff']*np.log(10))\n",
    "    if plot_gaia == True:\n",
    "        log_gaia_lum_err = df['gaia_lum_err']/(df['gaia_lum']*np.log(10))\n",
    "        ax.errorbar(np.log10(df['Teff']), np.log10(df['gaia_lum']), xerr=log_Teff_err, yerr=log_gaia_lum_err, fmt='.', zorder=1, c='grey', label='gaia luminosity')\n",
    "    if plot_train == True:\n",
    "        train_df = pd.read_csv('grid2_early.csv')\n",
    "        points = train_df[:100000]\n",
    "        ax.scatter(np.log10(points['effective_T']),np.log10(points['luminosity']), s=5, zorder=0, c='lightgrey',label='training data')\n",
    "    ax.errorbar(np.log10(df['Teff']), np.log10(df['cal_lum']), xerr=log_Teff_err, yerr=log_cal_lum_err, fmt='.', zorder=2, c='black')\n",
    "    ax.scatter(np.log10(df['Teff']), np.log10(df['cal_lum']), s=15, zorder=3, c='blue', label='computed luminosity')\n",
    "    ax.set_xlim(ax.get_xlim()[::-1])\n",
    "    ax.set_xlabel(r'$\\log10 T_{eff}$')\n",
    "    ax.set_ylabel(r'$\\log10(L/L_{\\odot})$')\n",
    "    ax.legend()\n",
    "    ax.grid()\n",
    "    plt.show()\n",
    "\n",
    "#removing blue stragglers\n",
    "high_Teff_IDs = np.array(cut_df['ID'])[np.argsort(cut_df['Teff'])[-4:]]\n",
    "step9_df = cut_df.drop(index=step8_df[step8_df['ID'].isin(high_Teff_IDs)].index)\n",
    "\n",
    "#removing other weird stars\n",
    "step9_df = removeStars(step9_df, 3.7, 0.25,4)\n",
    "step9_df = removeStars(step9_df, 3.69, 0.125,2)\n",
    "step9_df = removeStars(step9_df, 3.695, -0.25,2)\n",
    "step9_df = removeStars(step9_df, 3.73, 1,1)\n",
    "step9_df = removeStars(step9_df, 3.748, 0,2)\n",
    "step9_df = removeStars(step9_df, 3.76, 0.25,2)\n",
    "step9_df = removeStars(step9_df, 3.8, 1,1)\n",
    "step9_df = removeStars(step9_df, 3.73, -0.12,1)\n",
    "step9_df = removeStars(step9_df, 3.66, -0.5,1)\n",
    "step9_df = removeStars(step9_df, 3.71, 1.25,1)\n",
    "step9_df = removeStars(step9_df, 3.77, 0.37,1)\n",
    "step9_df = removeStars(step9_df, 3.76, 0.60,4)\n",
    "step9_df = removeStars(step9_df, 3.765, 0.7,1)\n",
    "step9_df = removeStars(step9_df, 3.77, 0.25,1)\n",
    "\n",
    "print(len(step9_df.index))\n",
    "plotCluster(step9_df, plot_gaia=False, plot_train=False, grid_path='grid2_early.csv')"
   ]
  },
  {
   "cell_type": "code",
   "execution_count": 40,
   "metadata": {},
   "outputs": [],
   "source": [
    "#save data to csv\n",
    "step9_df.to_csv(f'{OC}/{OC}_final.csv',index=False)"
   ]
  },
  {
   "cell_type": "code",
   "execution_count": null,
   "metadata": {},
   "outputs": [],
   "source": []
  }
 ],
 "metadata": {
  "kernelspec": {
   "display_name": "Python 3",
   "language": "python",
   "name": "python3"
  },
  "language_info": {
   "codemirror_mode": {
    "name": "ipython",
    "version": 3
   },
   "file_extension": ".py",
   "mimetype": "text/x-python",
   "name": "python",
   "nbconvert_exporter": "python",
   "pygments_lexer": "ipython3",
   "version": "3.7.3"
  }
 },
 "nbformat": 4,
 "nbformat_minor": 2
}
