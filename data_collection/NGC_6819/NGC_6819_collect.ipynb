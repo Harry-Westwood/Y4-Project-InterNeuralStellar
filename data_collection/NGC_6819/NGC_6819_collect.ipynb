{
 "cells": [
  {
   "cell_type": "code",
   "execution_count": 1,
   "metadata": {},
   "outputs": [
    {
     "name": "stderr",
     "output_type": "stream",
     "text": [
      "C:\\Users\\Harry\\Documents\\Home\\Anaconda\\lib\\site-packages\\statsmodels\\tools\\_testing.py:19: FutureWarning: pandas.util.testing is deprecated. Use the functions in the public API at pandas.testing instead.\n",
      "  import pandas.util.testing as tm\n"
     ]
    },
    {
     "name": "stdout",
     "output_type": "stream",
     "text": [
      "Created TAP+ (v1.2.1) - Connection:\n",
      "\tHost: gea.esac.esa.int\n",
      "\tUse HTTPS: True\n",
      "\tPort: 443\n",
      "\tSSL Port: 443\n",
      "Created TAP+ (v1.2.1) - Connection:\n",
      "\tHost: geadata.esac.esa.int\n",
      "\tUse HTTPS: True\n",
      "\tPort: 443\n",
      "\tSSL Port: 443\n"
     ]
    }
   ],
   "source": [
    "import pandas as pd\n",
    "import numpy as np\n",
    "import seaborn as sns\n",
    "import matplotlib.pyplot as plt\n",
    "from dataCollection import *"
   ]
  },
  {
   "cell_type": "code",
   "execution_count": 2,
   "metadata": {},
   "outputs": [],
   "source": [
    "OC = 'NGC_6819'"
   ]
  },
  {
   "cell_type": "code",
   "execution_count": 5,
   "metadata": {},
   "outputs": [
    {
     "name": "stderr",
     "output_type": "stream",
     "text": [
      "C:\\Users\\Harry\\Documents\\Home\\Anaconda\\lib\\site-packages\\ipykernel_launcher.py:2: TableReplaceWarning: converted column 'r_result_flag' from integer to float\n",
      "  \n",
      "C:\\Users\\Harry\\Documents\\Home\\Anaconda\\lib\\site-packages\\ipykernel_launcher.py:2: TableReplaceWarning: converted column 'r_modality_flag' from integer to float\n",
      "  \n",
      "C:\\Users\\Harry\\Documents\\Home\\Anaconda\\lib\\site-packages\\ipykernel_launcher.py:2: TableReplaceWarning: converted column 'teff_err1' from integer to float\n",
      "  \n",
      "C:\\Users\\Harry\\Documents\\Home\\Anaconda\\lib\\site-packages\\ipykernel_launcher.py:2: TableReplaceWarning: converted column 'teff_err2' from integer to float\n",
      "  \n"
     ]
    },
    {
     "name": "stdout",
     "output_type": "stream",
     "text": [
      "Found 201371 matching APOGEE and GAIA stars.\n",
      "8220 of those stars have Teff data.\n",
      "There is 1915 stars in the membership paper.\n",
      "Simbad input txt file saved as \"NGC_6819/NGC_6819_simbad_input.txt\".\n",
      "Launching GAIA query...\n"
     ]
    },
    {
     "name": "stderr",
     "output_type": "stream",
     "text": [
      "WARNING: W35: None:5:0: W35: 'value' attribute required for INFO elements [astropy.io.votable.tree]\n",
      "WARNING: W35: None:6:0: W35: 'value' attribute required for INFO elements [astropy.io.votable.tree]\n",
      "WARNING: W35: None:7:0: W35: 'value' attribute required for INFO elements [astropy.io.votable.tree]\n",
      "WARNING: W35: None:8:0: W35: 'value' attribute required for INFO elements [astropy.io.votable.tree]\n",
      "WARNING: W35: None:10:0: W35: 'value' attribute required for INFO elements [astropy.io.votable.tree]\n",
      "WARNING: W50: None:19:0: W50: Invalid unit string ''electron'.s**-1' [astropy.io.votable.tree]\n",
      "WARNING: W50: None:22:0: W50: Invalid unit string ''electron'.s**-1' [astropy.io.votable.tree]\n",
      "WARNING: W06: None:31:0: W06: Invalid UCD 'phys.luminosity;stat.error': Primary word 'stat.error' is not valid as a secondary word [astropy.io.votable.tree]\n",
      "WARNING: W06: None:34:0: W06: Invalid UCD 'phys.luminosity;stat.error': Primary word 'stat.error' is not valid as a secondary word [astropy.io.votable.tree]\n"
     ]
    },
    {
     "name": "stdout",
     "output_type": "stream",
     "text": [
      "Obtained 1915 out of 1915 stars in the cluster.\n",
      "Matching APOGEE Teffs to queried GAIA stars\n",
      "Found 45 matching stars with APOGEE Teff data.\n"
     ]
    }
   ],
   "source": [
    "#step0: match apogee data with gaia data\n",
    "apogee_Teff = matchApogeeGaia(\"kepler\")\n",
    "\n",
    "#step 1: get members in gaia IDs and write a simbad input file\n",
    "gaia_IDs, member_df = genSimbad(OC, \"{}/{}_simbad_input.txt\".format(OC,OC))\n",
    "\n",
    "#step 2: astroquery for gaia Gband mags, luminosities and distances\n",
    "gaia_df = GAIA_query(gaia_IDs)\n",
    "\n",
    "#step 3: merging apogee_gaia df with gaia_df\n",
    "step3_df = mergeApogee(gaia_df, apogee_Teff)"
   ]
  },
  {
   "cell_type": "code",
   "execution_count": 6,
   "metadata": {
    "scrolled": true
   },
   "outputs": [
    {
     "name": "stdout",
     "output_type": "stream",
     "text": [
      "Reading SIMBAD output and merging it to GAIA+APOGEE data...\n",
      "found 1915 matching IDs\n",
      "310 stars have Teff data\n",
      "Found Teff for 310 stars between SIMBAD and APOGEE.\n",
      "Matching in membership data and applying membership cut...\n",
      "301/310 stars are taken as cluster members\n",
      "Using APOGEE Teff for 42 stars.\n",
      "There are 235 stars without APOGEE data and have Teff provided by only one paper.\n",
      "Picking Teff automatically for 20 stars, 4 stars require manual picking.\n"
     ]
    },
    {
     "name": "stderr",
     "output_type": "stream",
     "text": [
      "C:\\Users\\Harry\\Documents\\work\\year 4\\4th year project\\data collection\\dataCollection.py:264: SettingWithCopyWarning: \n",
      "A value is trying to be set on a copy of a slice from a DataFrame\n",
      "\n",
      "See the caveats in the documentation: https://pandas.pydata.org/pandas-docs/stable/user_guide/indexing.html#returning-a-view-versus-a-copy\n",
      "  df['Teff'][i] = paper[0]\n",
      "C:\\Users\\Harry\\Documents\\work\\year 4\\4th year project\\data collection\\dataCollection.py:265: SettingWithCopyWarning: \n",
      "A value is trying to be set on a copy of a slice from a DataFrame\n",
      "\n",
      "See the caveats in the documentation: https://pandas.pydata.org/pandas-docs/stable/user_guide/indexing.html#returning-a-view-versus-a-copy\n",
      "  df['ref'][i] = paper[2]\n"
     ]
    },
    {
     "data": {
      "text/html": [
       "<div>\n",
       "<style scoped>\n",
       "    .dataframe tbody tr th:only-of-type {\n",
       "        vertical-align: middle;\n",
       "    }\n",
       "\n",
       "    .dataframe tbody tr th {\n",
       "        vertical-align: top;\n",
       "    }\n",
       "\n",
       "    .dataframe thead th {\n",
       "        text-align: right;\n",
       "    }\n",
       "</style>\n",
       "<table border=\"1\" class=\"dataframe\">\n",
       "  <thead>\n",
       "    <tr style=\"text-align: right;\">\n",
       "      <th></th>\n",
       "      <th>ref</th>\n",
       "      <th>count</th>\n",
       "    </tr>\n",
       "  </thead>\n",
       "  <tbody>\n",
       "    <tr>\n",
       "      <th>0</th>\n",
       "      <td>2015AJ....149..121L</td>\n",
       "      <td>245.0</td>\n",
       "    </tr>\n",
       "    <tr>\n",
       "      <th>1</th>\n",
       "      <td>2016A&amp;A...594A..39F</td>\n",
       "      <td>5.0</td>\n",
       "    </tr>\n",
       "    <tr>\n",
       "      <th>2</th>\n",
       "      <td>2018ApJS...236..42Y</td>\n",
       "      <td>4.0</td>\n",
       "    </tr>\n",
       "    <tr>\n",
       "      <th>3</th>\n",
       "      <td>2011AJ....141...83P</td>\n",
       "      <td>1.0</td>\n",
       "    </tr>\n",
       "  </tbody>\n",
       "</table>\n",
       "</div>"
      ],
      "text/plain": [
       "                   ref  count\n",
       "0  2015AJ....149..121L  245.0\n",
       "1  2016A&A...594A..39F    5.0\n",
       "2  2018ApJS...236..42Y    4.0\n",
       "3  2011AJ....141...83P    1.0"
      ]
     },
     "execution_count": 6,
     "metadata": {},
     "output_type": "execute_result"
    }
   ],
   "source": [
    "#step 4: read simbad output file and combine it to step3_df\n",
    "step4_df = readSimbad(f'{OC}/{OC}_simbad_output.txt',step3_df)\n",
    "\n",
    "#step 5: matching back in ra, dec and membership prob from membership paper, and apply membership cut for total membership>99%\n",
    "step5_df = membershipCut(step4_df, member_df)\n",
    "\n",
    "#step 6: Teff selection: 1.apogee, 2.singulars, 3.take away problematics, \n",
    "# 4.apply most widespread source of Teff until all multiples have Teff, 5.manual picking of problematics\n",
    "assigned_df, problematic_df, final_ranks = assignTeff(step5_df)\n",
    "final_ranks"
   ]
  },
  {
   "cell_type": "code",
   "execution_count": 8,
   "metadata": {
    "scrolled": true
   },
   "outputs": [
    {
     "name": "stdout",
     "output_type": "stream",
     "text": [
      "Star 1/4, GAIA ID: 2076487499307051008\n",
      "0: 5765.0 2015RAA....15.1197Z 0 entries\n",
      "\u001b[1m1: 6078.0 2015AJ....149..121L 245 entries\u001b[0m\n",
      "Teff choice?1\n"
     ]
    },
    {
     "name": "stderr",
     "output_type": "stream",
     "text": [
      "C:\\Users\\Harry\\Documents\\work\\year 4\\4th year project\\data collection\\dataCollection.py:295: SettingWithCopyWarning: \n",
      "A value is trying to be set on a copy of a slice from a DataFrame\n",
      "\n",
      "See the caveats in the documentation: https://pandas.pydata.org/pandas-docs/stable/user_guide/indexing.html#returning-a-view-versus-a-copy\n",
      "  df['Teff'][i] = Teff[decision_index]\n",
      "C:\\Users\\Harry\\Documents\\work\\year 4\\4th year project\\data collection\\dataCollection.py:296: SettingWithCopyWarning: \n",
      "A value is trying to be set on a copy of a slice from a DataFrame\n",
      "\n",
      "See the caveats in the documentation: https://pandas.pydata.org/pandas-docs/stable/user_guide/indexing.html#returning-a-view-versus-a-copy\n",
      "  df['ref'][i] = ref[decision_index]\n"
     ]
    },
    {
     "name": "stdout",
     "output_type": "stream",
     "text": [
      "\n",
      "Star 2/4, GAIA ID: 2076487774185029504\n",
      "\u001b[1m0: 5039.0 2018ApJS...236..42Y 4 entries\u001b[0m\n",
      "1: 4849.0 2015AJ....149..121L 245 entries\n",
      "Teff choice?1\n",
      "\n",
      "Star 3/4, GAIA ID: 2076594014494651136\n",
      "\u001b[1m0: 4865.0 2018ApJS...236..42Y 4 entries\u001b[0m\n",
      "1: 4568.0 2016A&A...594A..39F 5 entries\n",
      "Teff choice?1\n",
      "\n",
      "Star 4/4, GAIA ID: 2076600886442113280\n",
      "0: 4737.0 2018ApJS...236..42Y 4 entries\n",
      "1: 4758.0 2016A&A...594A..39F 5 entries\n",
      "\u001b[1m2: 4857.0 2015RAA....15.1197Z 0 entries\u001b[0m\n",
      "Teff choice?1\n",
      "\n"
     ]
    }
   ],
   "source": [
    "problematic_df = replaceManual(problematic_df,final_ranks)"
   ]
  },
  {
   "cell_type": "code",
   "execution_count": 9,
   "metadata": {},
   "outputs": [],
   "source": [
    "step6_df = pd.concat([assigned_df,problematic_df])\n",
    "step6_df.sort_index(inplace=True)"
   ]
  },
  {
   "cell_type": "code",
   "execution_count": 10,
   "metadata": {},
   "outputs": [
    {
     "data": {
      "text/html": [
       "<div>\n",
       "<style scoped>\n",
       "    .dataframe tbody tr th:only-of-type {\n",
       "        vertical-align: middle;\n",
       "    }\n",
       "\n",
       "    .dataframe tbody tr th {\n",
       "        vertical-align: top;\n",
       "    }\n",
       "\n",
       "    .dataframe thead th {\n",
       "        text-align: right;\n",
       "    }\n",
       "</style>\n",
       "<table border=\"1\" class=\"dataframe\">\n",
       "  <thead>\n",
       "    <tr style=\"text-align: right;\">\n",
       "      <th></th>\n",
       "      <th>ref</th>\n",
       "      <th>count</th>\n",
       "    </tr>\n",
       "  </thead>\n",
       "  <tbody>\n",
       "    <tr>\n",
       "      <th>0</th>\n",
       "      <td>2015AJ....149..121L</td>\n",
       "      <td>247.0</td>\n",
       "    </tr>\n",
       "    <tr>\n",
       "      <th>1</th>\n",
       "      <td>apogee</td>\n",
       "      <td>42.0</td>\n",
       "    </tr>\n",
       "    <tr>\n",
       "      <th>2</th>\n",
       "      <td>2016A&amp;A...594A..39F</td>\n",
       "      <td>7.0</td>\n",
       "    </tr>\n",
       "    <tr>\n",
       "      <th>3</th>\n",
       "      <td>2018ApJS...236..42Y</td>\n",
       "      <td>4.0</td>\n",
       "    </tr>\n",
       "    <tr>\n",
       "      <th>4</th>\n",
       "      <td>2011AJ....141...83P</td>\n",
       "      <td>1.0</td>\n",
       "    </tr>\n",
       "  </tbody>\n",
       "</table>\n",
       "</div>"
      ],
      "text/plain": [
       "                   ref  count\n",
       "0  2015AJ....149..121L  247.0\n",
       "1               apogee   42.0\n",
       "2  2016A&A...594A..39F    7.0\n",
       "3  2018ApJS...236..42Y    4.0\n",
       "4  2011AJ....141...83P    1.0"
      ]
     },
     "execution_count": 10,
     "metadata": {},
     "output_type": "execute_result"
    }
   ],
   "source": [
    "#listing all papers to google\n",
    "countUniqueRefs(step6_df, column='ref')"
   ]
  },
  {
   "cell_type": "code",
   "execution_count": 11,
   "metadata": {},
   "outputs": [
    {
     "name": "stderr",
     "output_type": "stream",
     "text": [
      "C:\\Users\\Harry\\Documents\\work\\year 4\\4th year project\\data collection\\dataCollection.py:475: SettingWithCopyWarning: \n",
      "A value is trying to be set on a copy of a slice from a DataFrame\n",
      "\n",
      "See the caveats in the documentation: https://pandas.pydata.org/pandas-docs/stable/user_guide/indexing.html#returning-a-view-versus-a-copy\n",
      "  df['Teff_err'][i]=Teff_err\n",
      "C:\\Users\\Harry\\Documents\\work\\year 4\\4th year project\\data collection\\dataCollection.py:457: SettingWithCopyWarning: \n",
      "A value is trying to be set on a copy of a slice from a DataFrame\n",
      "\n",
      "See the caveats in the documentation: https://pandas.pydata.org/pandas-docs/stable/user_guide/indexing.html#returning-a-view-versus-a-copy\n",
      "  df['Teff_err'][i] = list(suspect_df['Teff_err'])[np.argmin(angular_dist)]\n"
     ]
    }
   ],
   "source": [
    "#Matching Teff errors from papers:\n",
    "#ra,dec,TEFF,TEFF_ERR\n",
    "#resulting_df = matchTeff_err(step6_df, '2011AJ....141...89S', OC+'/2011AJ....141...89S_Teff.txt',2,3,6,7)\n",
    "#resulting_df = fixedTeff_err(resulting_df, '2011AJ....142...59J', 200)\n",
    "#resulting_df.drop(index=resulting_df[resulting_df['ref']=='2018MNRAS.480.4314B'].index, inplace=True)\n",
    "\n",
    "resulting_df = fixedTeff_err(step6_df, '2015AJ....149..121L', 32)\n",
    "resulting_df = matchTeff_err(resulting_df, '2016A&A...594A..39F', OC+'/2016A&A...594A..39F.txt',4,5,7,8)\n",
    "resulting_df = matchTeff_err(resulting_df, '2018ApJS...236..42Y', OC+'/2018ApJS...236..42Y_Teff1.txt',20,21,1,2)\n",
    "step7_df = fixedTeff_err(resulting_df, '2011AJ....141...83P', 6075.0*0.15)"
   ]
  },
  {
   "cell_type": "code",
   "execution_count": 8,
   "metadata": {},
   "outputs": [
    {
     "data": {
      "text/html": [
       "<div>\n",
       "<style scoped>\n",
       "    .dataframe tbody tr th:only-of-type {\n",
       "        vertical-align: middle;\n",
       "    }\n",
       "\n",
       "    .dataframe tbody tr th {\n",
       "        vertical-align: top;\n",
       "    }\n",
       "\n",
       "    .dataframe thead th {\n",
       "        text-align: right;\n",
       "    }\n",
       "</style>\n",
       "<table border=\"1\" class=\"dataframe\">\n",
       "  <thead>\n",
       "    <tr style=\"text-align: right;\">\n",
       "      <th></th>\n",
       "      <th>ID</th>\n",
       "      <th>g_mag</th>\n",
       "      <th>g_mag_err</th>\n",
       "      <th>A_G</th>\n",
       "      <th>gaia_lum</th>\n",
       "      <th>gaia_lum_err</th>\n",
       "      <th>distance</th>\n",
       "      <th>distance_err</th>\n",
       "      <th>Teff</th>\n",
       "      <th>Teff_err</th>\n",
       "      <th>ref</th>\n",
       "      <th>feh_table</th>\n",
       "      <th>feh_count</th>\n",
       "      <th>ra</th>\n",
       "      <th>dec</th>\n",
       "      <th>mem_prob</th>\n",
       "    </tr>\n",
       "  </thead>\n",
       "  <tbody>\n",
       "    <tr>\n",
       "      <th>5</th>\n",
       "      <td>2076294672459697536</td>\n",
       "      <td>15.356282</td>\n",
       "      <td>0.007572</td>\n",
       "      <td>NaN</td>\n",
       "      <td>5.354074</td>\n",
       "      <td>1.196535</td>\n",
       "      <td>2898.725373</td>\n",
       "      <td>271.086965</td>\n",
       "      <td>6075.0</td>\n",
       "      <td>NaN</td>\n",
       "      <td>2011AJ....141...83P</td>\n",
       "      <td>[[6075.0, None, 2011AJ....141...83P]]</td>\n",
       "      <td>1.0</td>\n",
       "      <td>295.354161</td>\n",
       "      <td>40.002915</td>\n",
       "      <td>1.0</td>\n",
       "    </tr>\n",
       "  </tbody>\n",
       "</table>\n",
       "</div>"
      ],
      "text/plain": [
       "                    ID      g_mag  g_mag_err  A_G  gaia_lum  gaia_lum_err  \\\n",
       "5  2076294672459697536  15.356282   0.007572  NaN  5.354074      1.196535   \n",
       "\n",
       "      distance  distance_err    Teff  Teff_err                  ref  \\\n",
       "5  2898.725373    271.086965  6075.0       NaN  2011AJ....141...83P   \n",
       "\n",
       "                               feh_table  feh_count          ra        dec  \\\n",
       "5  [[6075.0, None, 2011AJ....141...83P]]        1.0  295.354161  40.002915   \n",
       "\n",
       "   mem_prob  \n",
       "5       1.0  "
      ]
     },
     "execution_count": 8,
     "metadata": {},
     "output_type": "execute_result"
    }
   ],
   "source": [
    "###########################################\n",
    "#checking teffs for prev cell\n",
    "step6_df[step6_df[\"ref\"]==\"2011AJ....141...83P\"]"
   ]
  },
  {
   "cell_type": "code",
   "execution_count": 10,
   "metadata": {
    "scrolled": true
   },
   "outputs": [
    {
     "name": "stdout",
     "output_type": "stream",
     "text": [
      "295.325 11.8\n"
     ]
    }
   ],
   "source": [
    "#DOWNLOAD DUSTMAP FOR THIS REGION BY GETTING THE RA AND DEC FROM SIMBAD AND PASSING IT THROUGH THE FOLLOWING\n",
    "#FUNCTION AND THEN PUT THE OUTPUT INTO: #http://argonaut.skymaps.info/query\n",
    "ra_dec_conv(s=\"19 41 18.0\",r=\"+40 11 12\") "
   ]
  },
  {
   "cell_type": "code",
   "execution_count": 12,
   "metadata": {},
   "outputs": [
    {
     "name": "stdout",
     "output_type": "stream",
     "text": [
      "9.646621585243578\n"
     ]
    }
   ],
   "source": [
    "dist = step7_df['distance']\n",
    "dist = dist[np.logical_not(np.isnan(dist))]\n",
    "dist_err = step7_df['distance_err']\n",
    "dist_err = dist_err[np.logical_not(np.isnan(dist_err))]\n",
    "mean_dist = np.sum(dist*dist_err**(-2))/np.sum(dist_err**(-2))\n",
    "mean_dist_err = np.sqrt(1/np.sum(dist_err**(-2)))\n",
    "print(mean_dist_err)\n",
    "luminosity, luminosity_err = lum_calc(OC, step7_df['g_mag'], step7_df['g_mag_err'], mean_dist, mean_dist_err, list(step7_df['Teff']), list(step7_df['Teff_err']))\n",
    "step8_df = step7_df.copy()\n",
    "step8_df['cal_lum'] = luminosity\n",
    "step8_df['cal_lum_err'] = luminosity_err\n",
    "step8_df.dropna(subset=['cal_lum'],inplace=True)"
   ]
  },
  {
   "cell_type": "code",
   "execution_count": 13,
   "metadata": {},
   "outputs": [
    {
     "data": {
      "image/png": "[encoded data removed]",
      "text/plain": [
       "<Figure size 720x720 with 1 Axes>"
      ]
     },
     "metadata": {
      "needs_background": "light"
     },
     "output_type": "display_data"
    }
   ],
   "source": [
    "#apply cut that removes RGB stars\n",
    "step8_df['value'] = 10*np.log10(step8_df['Teff'])-np.log10(step8_df['cal_lum'])-35.5\n",
    "cut_df = step8_df[step8_df['value']>0].copy()\n",
    "\n",
    "#plotting cluster to count number of blue stragglers, and other stars to remove\n",
    "plotCluster(cut_df, plot_gaia=True)"
   ]
  },
  {
   "cell_type": "code",
   "execution_count": 26,
   "metadata": {},
   "outputs": [
    {
     "data": {
      "image/png": "[encoded data removed]",
      "text/plain": [
       "<Figure size 720x720 with 1 Axes>"
      ]
     },
     "metadata": {
      "needs_background": "light"
     },
     "output_type": "display_data"
    },
    {
     "name": "stdout",
     "output_type": "stream",
     "text": [
      "221\n"
     ]
    }
   ],
   "source": [
    "#removing blue stragglers\n",
    "high_Teff_IDs = np.array(cut_df['ID'])[np.argsort(cut_df['Teff'])[-7:]]\n",
    "step9_df = cut_df.drop(index=step8_df[step8_df['ID'].isin(high_Teff_IDs)].index)\n",
    "\n",
    "\n",
    "#removing other weird stars\n",
    "step9_df = removeStars(step9_df, 3.777, 0.8,2)\n",
    "step9_df = removeStars(step9_df, 3.66, 1.0,1)\n",
    "step9_df = removeStars(step9_df, 3.81, 1.15,3)\n",
    "step9_df = removeStars(step9_df, 3.82, 1.2,1)\n",
    "step9_df = removeStars(step9_df, 3.815, 1.08,1)\n",
    "step9_df = removeStars(step9_df, 3.8, 1.3,1)\n",
    "step9_df = removeStars(step9_df, 3.82, 0.72,1)\n",
    "step9_df = removeStars(step9_df,3.785,0.5,1)\n",
    "\n",
    "plotCluster(step9_df)\n",
    "print(len(step9_df.index))\n",
    "#plotCluster(step9_df, plot_gaia=True, plot_train=True, grid_path='C:/Users/Harry/Documents/work/year 4/4th year project/Modelling/NN/grid learning/Hin files/grid2_early.csv')"
   ]
  },
  {
   "cell_type": "code",
   "execution_count": 27,
   "metadata": {},
   "outputs": [],
   "source": [
    "#save data to csv\n",
    "step9_df.to_csv(f'{OC}/{OC}_final.csv',index=False)"
   ]
  },
  {
   "cell_type": "code",
   "execution_count": null,
   "metadata": {},
   "outputs": [],
   "source": []
  }
 ],
 "metadata": {
  "kernelspec": {
   "display_name": "Python 3",
   "language": "python",
   "name": "python3"
  },
  "language_info": {
   "codemirror_mode": {
    "name": "ipython",
    "version": 3
   },
   "file_extension": ".py",
   "mimetype": "text/x-python",
   "name": "python",
   "nbconvert_exporter": "python",
   "pygments_lexer": "ipython3",
   "version": "3.7.3"
  }
 },
 "nbformat": 4,
 "nbformat_minor": 2
}
