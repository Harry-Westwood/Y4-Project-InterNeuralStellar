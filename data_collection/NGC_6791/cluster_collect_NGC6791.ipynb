{
 "cells": [
  {
   "cell_type": "code",
   "execution_count": 1,
   "metadata": {},
   "outputs": [
    {
     "name": "stderr",
     "output_type": "stream",
     "text": [
      "C:\\Users\\User\\Anaconda3\\lib\\site-packages\\statsmodels\\tools\\_testing.py:19: FutureWarning: pandas.util.testing is deprecated. Use the functions in the public API at pandas.testing instead.\n",
      "  import pandas.util.testing as tm\n"
     ]
    },
    {
     "name": "stdout",
     "output_type": "stream",
     "text": [
      "Created TAP+ (v1.2.1) - Connection:\n",
      "\tHost: gea.esac.esa.int\n",
      "\tUse HTTPS: True\n",
      "\tPort: 443\n",
      "\tSSL Port: 443\n",
      "Created TAP+ (v1.2.1) - Connection:\n",
      "\tHost: geadata.esac.esa.int\n",
      "\tUse HTTPS: True\n",
      "\tPort: 443\n",
      "\tSSL Port: 443\n"
     ]
    }
   ],
   "source": [
    "import pandas as pd\n",
    "import numpy as np\n",
    "import seaborn as sns\n",
    "import matplotlib.pyplot as plt\n",
    "from dataCollection import *"
   ]
  },
  {
   "cell_type": "code",
   "execution_count": 2,
   "metadata": {},
   "outputs": [],
   "source": [
    "OC = 'NGC_6791'"
   ]
  },
  {
   "cell_type": "code",
   "execution_count": 3,
   "metadata": {},
   "outputs": [
    {
     "name": "stdout",
     "output_type": "stream",
     "text": [
      "There is 1722 stars in the membership paper.\n",
      "Simbad input txt file saved as \"NGC_6791/NGC_6791_simbad_input.txt\".\n",
      "Launching GAIA query...\n"
     ]
    },
    {
     "name": "stderr",
     "output_type": "stream",
     "text": [
      "WARNING: W35: None:5:0: W35: 'value' attribute required for INFO elements [astropy.io.votable.tree]\n",
      "WARNING: W35: None:6:0: W35: 'value' attribute required for INFO elements [astropy.io.votable.tree]\n",
      "WARNING: W35: None:7:0: W35: 'value' attribute required for INFO elements [astropy.io.votable.tree]\n",
      "WARNING: W35: None:8:0: W35: 'value' attribute required for INFO elements [astropy.io.votable.tree]\n",
      "WARNING: W35: None:10:0: W35: 'value' attribute required for INFO elements [astropy.io.votable.tree]\n",
      "WARNING: W50: None:19:0: W50: Invalid unit string ''electron'.s**-1' [astropy.io.votable.tree]\n",
      "WARNING: W50: None:22:0: W50: Invalid unit string ''electron'.s**-1' [astropy.io.votable.tree]\n",
      "WARNING: W06: None:31:0: W06: Invalid UCD 'phys.luminosity;stat.error': Primary word 'stat.error' is not valid as a secondary word [astropy.io.votable.tree]\n",
      "WARNING: W06: None:34:0: W06: Invalid UCD 'phys.luminosity;stat.error': Primary word 'stat.error' is not valid as a secondary word [astropy.io.votable.tree]\n"
     ]
    },
    {
     "name": "stdout",
     "output_type": "stream",
     "text": [
      "Obtained 1722 out of 1722 stars in the cluster.\n",
      "Launching GAIA query...\n"
     ]
    },
    {
     "name": "stderr",
     "output_type": "stream",
     "text": [
      "WARNING: W35: None:5:0: W35: 'value' attribute required for INFO elements [astropy.io.votable.tree]\n",
      "WARNING: W35: None:6:0: W35: 'value' attribute required for INFO elements [astropy.io.votable.tree]\n",
      "WARNING: W35: None:7:0: W35: 'value' attribute required for INFO elements [astropy.io.votable.tree]\n",
      "WARNING: W35: None:8:0: W35: 'value' attribute required for INFO elements [astropy.io.votable.tree]\n",
      "WARNING: W35: None:10:0: W35: 'value' attribute required for INFO elements [astropy.io.votable.tree]\n"
     ]
    },
    {
     "name": "stdout",
     "output_type": "stream",
     "text": [
      "1472 out of 1722 stars in the cluster have cross match 2MASS IDs.\n",
      "Matching APOGEE Teffs to queried GAIA stars\n",
      "Found 36 matching stars with APOGEE Teff data.\n"
     ]
    }
   ],
   "source": [
    "#step0: match apogee data with gaia data\n",
    "#apogee_Teff = matchApogeeGaia('k2')\n",
    "\n",
    "#step 1: get members in gaia IDs and write a simbad input file\n",
    "gaia_IDs, member_df = genSimbad(OC, \"{}/{}_simbad_input.txt\".format(OC,OC))\n",
    "\n",
    "#step 2: astroquery for gaia Gband mags, luminosities and distances, then tm_IDs\n",
    "gaia_df = GAIA_query(gaia_IDs)\n",
    "gaia_df = GAIA_query_tm(gaia_df, gaia_IDs)\n",
    "\n",
    "#step 3: merging apogee_gaia df with gaia_df\n",
    "step3_df = matchApogeeToData(gaia_df)"
   ]
  },
  {
   "cell_type": "code",
   "execution_count": 4,
   "metadata": {
    "scrolled": false
   },
   "outputs": [
    {
     "name": "stdout",
     "output_type": "stream",
     "text": [
      "Reading SIMBAD output and merging it to GAIA+APOGEE data...\n",
      "found 1722 matching IDs\n",
      "125 stars have Teff data\n",
      "Found Teff for 126 stars between SIMBAD and APOGEE.\n",
      "Matching in membership data and applying membership cut...\n",
      "125/126 stars are taken as cluster members\n",
      "Using APOGEE Teff for 36 stars.\n",
      "There are 68 stars without APOGEE data and have Teff provided by only one paper.\n",
      "Picking Teff automatically for 11 stars, 10 stars require manual picking.\n"
     ]
    },
    {
     "name": "stderr",
     "output_type": "stream",
     "text": [
      "C:\\Users\\User\\Documents\\UoB physics stuff\\year 4\\FYP\\Simbad\\dataCollection.py:310: SettingWithCopyWarning: \n",
      "A value is trying to be set on a copy of a slice from a DataFrame\n",
      "\n",
      "See the caveats in the documentation: https://pandas.pydata.org/pandas-docs/stable/user_guide/indexing.html#returning-a-view-versus-a-copy\n",
      "  df['Teff'][i] = paper[0]\n",
      "C:\\Users\\User\\Documents\\UoB physics stuff\\year 4\\FYP\\Simbad\\dataCollection.py:311: SettingWithCopyWarning: \n",
      "A value is trying to be set on a copy of a slice from a DataFrame\n",
      "\n",
      "See the caveats in the documentation: https://pandas.pydata.org/pandas-docs/stable/user_guide/indexing.html#returning-a-view-versus-a-copy\n",
      "  df['ref'][i] = paper[2]\n"
     ]
    },
    {
     "data": {
      "text/html": [
       "<div>\n",
       "<style scoped>\n",
       "    .dataframe tbody tr th:only-of-type {\n",
       "        vertical-align: middle;\n",
       "    }\n",
       "\n",
       "    .dataframe tbody tr th {\n",
       "        vertical-align: top;\n",
       "    }\n",
       "\n",
       "    .dataframe thead th {\n",
       "        text-align: right;\n",
       "    }\n",
       "</style>\n",
       "<table border=\"1\" class=\"dataframe\">\n",
       "  <thead>\n",
       "    <tr style=\"text-align: right;\">\n",
       "      <th></th>\n",
       "      <th>ref</th>\n",
       "      <th>count</th>\n",
       "    </tr>\n",
       "  </thead>\n",
       "  <tbody>\n",
       "    <tr>\n",
       "      <th>0</th>\n",
       "      <td>2011AJ....141...89S</td>\n",
       "      <td>41.0</td>\n",
       "    </tr>\n",
       "    <tr>\n",
       "      <th>1</th>\n",
       "      <td>2018ApJS...236..42Y</td>\n",
       "      <td>19.0</td>\n",
       "    </tr>\n",
       "    <tr>\n",
       "      <th>2</th>\n",
       "      <td>2018ApJ...867...34V</td>\n",
       "      <td>9.0</td>\n",
       "    </tr>\n",
       "    <tr>\n",
       "      <th>3</th>\n",
       "      <td>2011ApJ...729L..10B</td>\n",
       "      <td>5.0</td>\n",
       "    </tr>\n",
       "    <tr>\n",
       "      <th>4</th>\n",
       "      <td>2016A&amp;A...594A..39F</td>\n",
       "      <td>3.0</td>\n",
       "    </tr>\n",
       "    <tr>\n",
       "      <th>5</th>\n",
       "      <td>2011AJ....141...50W</td>\n",
       "      <td>2.0</td>\n",
       "    </tr>\n",
       "  </tbody>\n",
       "</table>\n",
       "</div>"
      ],
      "text/plain": [
       "                   ref  count\n",
       "0  2011AJ....141...89S   41.0\n",
       "1  2018ApJS...236..42Y   19.0\n",
       "2  2018ApJ...867...34V    9.0\n",
       "3  2011ApJ...729L..10B    5.0\n",
       "4  2016A&A...594A..39F    3.0\n",
       "5  2011AJ....141...50W    2.0"
      ]
     },
     "execution_count": 4,
     "metadata": {},
     "output_type": "execute_result"
    }
   ],
   "source": [
    "#step 4: read simbad output file and combine it to step3_df\n",
    "step4_df = readSimbad(f'{OC}/{OC}_simbad_output.txt',step3_df)\n",
    "\n",
    "#step 5: matching back in ra, dec and membership prob from membership paper, and apply membership cut for total membership>99%\n",
    "step5_df = membershipCut(step4_df, member_df)\n",
    "\n",
    "#step 6: Teff selection: 1.apogee, 2.singulars, 3.take away problematics, \n",
    "# 4.apply most widespread source of Teff until all multiples have Teff, 5.manual picking of problematics\n",
    "assigned_df, problematic_df, final_ranks = assignTeff(step5_df)\n",
    "final_ranks"
   ]
  },
  {
   "cell_type": "code",
   "execution_count": 5,
   "metadata": {},
   "outputs": [
    {
     "name": "stdout",
     "output_type": "stream",
     "text": [
      "Star 1/10, GAIA ID: 2051099329142406400\n",
      "\u001b[1m0: 4638.0 2018ApJS...236..42Y 19 entries\u001b[0m\n",
      "\u001b[1m1: 4440.0 2011ApJ...729L..10B 5 entries\u001b[0m\n",
      "Teff choice?0\n"
     ]
    },
    {
     "name": "stderr",
     "output_type": "stream",
     "text": [
      "C:\\Users\\User\\Documents\\UoB physics stuff\\year 4\\FYP\\Simbad\\dataCollection.py:341: SettingWithCopyWarning: \n",
      "A value is trying to be set on a copy of a slice from a DataFrame\n",
      "\n",
      "See the caveats in the documentation: https://pandas.pydata.org/pandas-docs/stable/user_guide/indexing.html#returning-a-view-versus-a-copy\n",
      "  df['Teff'][i] = Teff[decision_index]\n",
      "C:\\Users\\User\\Documents\\UoB physics stuff\\year 4\\FYP\\Simbad\\dataCollection.py:342: SettingWithCopyWarning: \n",
      "A value is trying to be set on a copy of a slice from a DataFrame\n",
      "\n",
      "See the caveats in the documentation: https://pandas.pydata.org/pandas-docs/stable/user_guide/indexing.html#returning-a-view-versus-a-copy\n",
      "  df['ref'][i] = ref[decision_index]\n"
     ]
    },
    {
     "name": "stdout",
     "output_type": "stream",
     "text": [
      "\n",
      "Star 2/10, GAIA ID: 2051105135938218624\n",
      "\u001b[1m0: 4263.0 2018ApJS...236..42Y 19 entries\u001b[0m\n",
      "\u001b[1m1: 4481.0 2011AJ....141...89S 41 entries\u001b[0m\n",
      "Teff choice?1\n",
      "\n",
      "Star 3/10, GAIA ID: 2051105479535690240\n",
      "\u001b[1m0: 4724.0 2018ApJS...236..42Y 19 entries\u001b[0m\n",
      "\u001b[1m1: 4543.0 2011ApJ...729L..10B 5 entries\u001b[0m\n",
      "Teff choice?0\n",
      "\n",
      "Star 4/10, GAIA ID: 2051105754413593728\n",
      "\u001b[1m0: 4784.0 2018ApJS...236..42Y 19 entries\u001b[0m\n",
      "\u001b[1m1: 4602.0 2011ApJ...729L..10B 5 entries\u001b[0m\n",
      "Teff choice?0\n",
      "\n",
      "Star 5/10, GAIA ID: 2051288204622141568\n",
      "\u001b[1m0: 4550.0 2018ApJS...236..42Y 19 entries\u001b[0m\n",
      "\u001b[1m1: 4365.0 2011ApJ...729L..10B 5 entries\u001b[0m\n",
      "Teff choice?0\n",
      "\n",
      "Star 6/10, GAIA ID: 2051292911906095360\n",
      "\u001b[1m0: 4735.0 2018ApJS...236..42Y 19 entries\u001b[0m\n",
      "\u001b[1m1: 4452.0 2011ApJ...729L..10B 5 entries\u001b[0m\n",
      "Teff choice?0\n",
      "\n",
      "Star 7/10, GAIA ID: 2051293083704792960\n",
      "\u001b[1m0: 4095.0 2018ApJ...867...34V 9 entries\u001b[0m\n",
      "\u001b[1m1: 4351.0 2018ApJS...236..42Y 19 entries\u001b[0m\n",
      "2: 4186.0 2011ApJ...729L..10B 5 entries\n",
      "Teff choice?2\n",
      "\n",
      "Star 8/10, GAIA ID: 2051293255503469184\n",
      "\u001b[1m0: 4755.0 2018ApJS...236..42Y 19 entries\u001b[0m\n",
      "\u001b[1m1: 4478.0 2011AJ....141...89S 41 entries\u001b[0m\n",
      "Teff choice?1\n",
      "\n",
      "Star 9/10, GAIA ID: 2051293427302192640\n",
      "\u001b[1m0: 4745.0 2018ApJS...236..42Y 19 entries\u001b[0m\n",
      "\u001b[1m1: 4456.0 2011ApJ...729L..10B 5 entries\u001b[0m\n",
      "Teff choice?0\n",
      "\n",
      "Star 10/10, GAIA ID: 2051293496021675776\n",
      "\u001b[1m0: 4730.0 2018ApJS...236..42Y 19 entries\u001b[0m\n",
      "1: 4542.0 2011AJ....141...89S 41 entries\n",
      "2: 4559.0 2011ApJ...729L..10B 5 entries\n",
      "Teff choice?1\n",
      "\n"
     ]
    }
   ],
   "source": [
    "#manual assigning of problematic Teffs\n",
    "problematic_df = replaceManual(problematic_df, final_ranks)\n",
    "step6_df = pd.concat([assigned_df,problematic_df])\n",
    "step6_df.sort_index(inplace=True)"
   ]
  },
  {
   "cell_type": "code",
   "execution_count": 6,
   "metadata": {},
   "outputs": [
    {
     "data": {
      "text/html": [
       "<div>\n",
       "<style scoped>\n",
       "    .dataframe tbody tr th:only-of-type {\n",
       "        vertical-align: middle;\n",
       "    }\n",
       "\n",
       "    .dataframe tbody tr th {\n",
       "        vertical-align: top;\n",
       "    }\n",
       "\n",
       "    .dataframe thead th {\n",
       "        text-align: right;\n",
       "    }\n",
       "</style>\n",
       "<table border=\"1\" class=\"dataframe\">\n",
       "  <thead>\n",
       "    <tr style=\"text-align: right;\">\n",
       "      <th></th>\n",
       "      <th>ref</th>\n",
       "      <th>count</th>\n",
       "    </tr>\n",
       "  </thead>\n",
       "  <tbody>\n",
       "    <tr>\n",
       "      <th>0</th>\n",
       "      <td>2011AJ....141...89S</td>\n",
       "      <td>44.0</td>\n",
       "    </tr>\n",
       "    <tr>\n",
       "      <th>1</th>\n",
       "      <td>apogee</td>\n",
       "      <td>36.0</td>\n",
       "    </tr>\n",
       "    <tr>\n",
       "      <th>2</th>\n",
       "      <td>2018ApJS...236..42Y</td>\n",
       "      <td>25.0</td>\n",
       "    </tr>\n",
       "    <tr>\n",
       "      <th>3</th>\n",
       "      <td>2018ApJ...867...34V</td>\n",
       "      <td>9.0</td>\n",
       "    </tr>\n",
       "    <tr>\n",
       "      <th>4</th>\n",
       "      <td>2011ApJ...729L..10B</td>\n",
       "      <td>6.0</td>\n",
       "    </tr>\n",
       "    <tr>\n",
       "      <th>5</th>\n",
       "      <td>2016A&amp;A...594A..39F</td>\n",
       "      <td>3.0</td>\n",
       "    </tr>\n",
       "    <tr>\n",
       "      <th>6</th>\n",
       "      <td>2011AJ....141...50W</td>\n",
       "      <td>2.0</td>\n",
       "    </tr>\n",
       "  </tbody>\n",
       "</table>\n",
       "</div>"
      ],
      "text/plain": [
       "                   ref  count\n",
       "0  2011AJ....141...89S   44.0\n",
       "1               apogee   36.0\n",
       "2  2018ApJS...236..42Y   25.0\n",
       "3  2018ApJ...867...34V    9.0\n",
       "4  2011ApJ...729L..10B    6.0\n",
       "5  2016A&A...594A..39F    3.0\n",
       "6  2011AJ....141...50W    2.0"
      ]
     },
     "execution_count": 6,
     "metadata": {},
     "output_type": "execute_result"
    }
   ],
   "source": [
    "#listing all papers to google\n",
    "countUniqueRefs(step6_df, column='ref')"
   ]
  },
  {
   "cell_type": "code",
   "execution_count": 7,
   "metadata": {},
   "outputs": [
    {
     "name": "stderr",
     "output_type": "stream",
     "text": [
      "C:\\Users\\User\\Documents\\UoB physics stuff\\year 4\\FYP\\Simbad\\dataCollection.py:497: SettingWithCopyWarning: \n",
      "A value is trying to be set on a copy of a slice from a DataFrame\n",
      "\n",
      "See the caveats in the documentation: https://pandas.pydata.org/pandas-docs/stable/user_guide/indexing.html#returning-a-view-versus-a-copy\n",
      "  df['Teff_err'][i]=Teff_err[j]\n",
      "C:\\Users\\User\\Documents\\UoB physics stuff\\year 4\\FYP\\Simbad\\dataCollection.py:503: SettingWithCopyWarning: \n",
      "A value is trying to be set on a copy of a slice from a DataFrame\n",
      "\n",
      "See the caveats in the documentation: https://pandas.pydata.org/pandas-docs/stable/user_guide/indexing.html#returning-a-view-versus-a-copy\n",
      "  df['Teff_err'][i] = list(suspect_df['Teff_err'])[np.argmin(angular_dist)]\n",
      "C:\\Users\\User\\Documents\\UoB physics stuff\\year 4\\FYP\\Simbad\\dataCollection.py:521: SettingWithCopyWarning: \n",
      "A value is trying to be set on a copy of a slice from a DataFrame\n",
      "\n",
      "See the caveats in the documentation: https://pandas.pydata.org/pandas-docs/stable/user_guide/indexing.html#returning-a-view-versus-a-copy\n",
      "  df['Teff_err'][i]=Teff_err\n"
     ]
    }
   ],
   "source": [
    "#Matching Teff errors from papers:\n",
    "resulting_df = matchTeff_err(step6_df, '2011AJ....141...89S', OC+'/2011AJ....141...89S_Teff.txt',3,4,7,8)\n",
    "resulting_df = matchTeff_err(resulting_df, '2018ApJS...236..42Y', OC+'/2018ApJS...236..42Y_Teff1.txt',20,21,1,2)\n",
    "resulting_df = fixedTeff_err(resulting_df, '2018ApJ...867...34V', 50)\n",
    "resulting_df = fixedTeff_err(resulting_df, '2011ApJ...729L..10B', 100)\n",
    "resulting_df = matchTeff_err(resulting_df, '2016A&A...594A..39F', OC+'/2016AA...594A..39F_Teff.txt',4,5,7,8)\n",
    "#resulting_df = fixedTeff_err(resulting_df, '2016A&A...594A..43H', 80)\n",
    "#stars will be removed as RGB later on, using a place holder Teff err due to unable to locate errors\n",
    "step7_df = fixedTeff_err(resulting_df, '2011AJ....141...50W', 80)"
   ]
  },
  {
   "cell_type": "code",
   "execution_count": 8,
   "metadata": {},
   "outputs": [
    {
     "name": "stdout",
     "output_type": "stream",
     "text": [
      "290.22083333333336 37.77166666666667\n"
     ]
    }
   ],
   "source": [
    "ra_dec_conv('19 20 53.0','+37 46 18')"
   ]
  },
  {
   "cell_type": "code",
   "execution_count": 9,
   "metadata": {},
   "outputs": [
    {
     "name": "stdout",
     "output_type": "stream",
     "text": [
      "52.50852569678626\n",
      "Invalid temperature 3115.0. BC has been set to Nan\n"
     ]
    }
   ],
   "source": [
    "dist = step7_df['distance']\n",
    "dist = dist[np.logical_not(np.isnan(dist))]\n",
    "dist_err = step7_df['distance_err']\n",
    "dist_err = dist_err[np.logical_not(np.isnan(dist_err))]\n",
    "mean_dist = np.sum(dist*dist_err**(-2))/np.sum(dist_err**(-2))\n",
    "mean_dist_err = np.sqrt(1/np.sum(dist_err**(-2)))\n",
    "print(mean_dist_err)\n",
    "#mean_dist_err=0\n",
    "luminosity, luminosity_err = lum_calc(OC, step7_df['g_mag'], step7_df['g_mag_err'], mean_dist, mean_dist_err, list(step7_df['Teff']), list(step7_df['Teff_err']))\n",
    "step8_df = step7_df.copy()\n",
    "step8_df['cal_lum'] = luminosity\n",
    "step8_df['cal_lum_err'] = luminosity_err\n",
    "step8_df.dropna(subset=['cal_lum'],inplace=True)"
   ]
  },
  {
   "cell_type": "code",
   "execution_count": 10,
   "metadata": {},
   "outputs": [
    {
     "data": {
      "image/png": "[encoded data removed]",
      "text/plain": [
       "<Figure size 720x720 with 1 Axes>"
      ]
     },
     "metadata": {
      "needs_background": "light"
     },
     "output_type": "display_data"
    }
   ],
   "source": [
    "#apply cut that removes RGB stars\n",
    "step8_df['value'] = 10*np.log10(step8_df['Teff'])-np.log10(step8_df['cal_lum'])-35.5\n",
    "cut_df = step8_df[step8_df['value']>0].copy()\n",
    "\n",
    "#plotting cluster to count number of blue stragglers, and other stars to remove\n",
    "plotCluster(cut_df, plot_gaia=True)"
   ]
  },
  {
   "cell_type": "code",
   "execution_count": 11,
   "metadata": {},
   "outputs": [
    {
     "data": {
      "image/png": "[encoded data removed]",
      "text/plain": [
       "<Figure size 720x720 with 1 Axes>"
      ]
     },
     "metadata": {
      "needs_background": "light"
     },
     "output_type": "display_data"
    }
   ],
   "source": [
    "#removing blue stragglers\n",
    "#no blue stragglers\n",
    "step9_df = cut_df.copy()\n",
    "\n",
    "#removing other weird stars\n",
    "step9_df = removeStars(step9_df, 3.74, 0.6,1)\n",
    "step9_df = removeStars(step9_df, 3.70, 0.7,1)\n",
    "step9_df = removeStars(step9_df, 3.68, 0.4,1)\n",
    "step9_df = removeStars(step9_df, 3.69, 0.55,1)\n",
    "\n",
    "plotCluster(step9_df, plot_gaia=False, plot_train=False, grid_path='grid2_early.csv')"
   ]
  },
  {
   "cell_type": "code",
   "execution_count": 12,
   "metadata": {},
   "outputs": [],
   "source": [
    "#save data to csv\n",
    "step9_df.to_csv(f'{OC}/{OC}_final.csv',index=False)"
   ]
  },
  {
   "cell_type": "code",
   "execution_count": null,
   "metadata": {},
   "outputs": [],
   "source": []
  }
 ],
 "metadata": {
  "kernelspec": {
   "display_name": "Python 3",
   "language": "python",
   "name": "python3"
  },
  "language_info": {
   "codemirror_mode": {
    "name": "ipython",
    "version": 3
   },
   "file_extension": ".py",
   "mimetype": "text/x-python",
   "name": "python",
   "nbconvert_exporter": "python",
   "pygments_lexer": "ipython3",
   "version": "3.7.3"
  }
 },
 "nbformat": 4,
 "nbformat_minor": 2
}
