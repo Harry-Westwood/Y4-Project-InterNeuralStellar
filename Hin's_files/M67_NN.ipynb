{
 "cells": [
  {
   "cell_type": "code",
   "execution_count": 1,
   "metadata": {},
   "outputs": [
    {
     "name": "stderr",
     "output_type": "stream",
     "text": [
      "Using TensorFlow backend.\n"
     ]
    }
   ],
   "source": [
    "import keras\n",
    "import numpy as np\n",
    "from neuralStellar import *\n",
    "import pymc3 as pm\n",
    "import theano as T\n",
    "import theano.tensor as TT"
   ]
  },
  {
   "cell_type": "code",
   "execution_count": 2,
   "metadata": {},
   "outputs": [
    {
     "name": "stdout",
     "output_type": "stream",
     "text": [
      "Model: \"model\"\n",
      "_________________________________________________________________\n",
      "Layer (type)                 Output Shape              Param #   \n",
      "=================================================================\n",
      "input_1 (InputLayer)         [(None, 4)]               0         \n",
      "_________________________________________________________________\n",
      "dense (Dense)                (None, 128)               640       \n",
      "_________________________________________________________________\n",
      "dense_1 (Dense)              (None, 128)               16512     \n",
      "_________________________________________________________________\n",
      "dense_2 (Dense)              (None, 128)               16512     \n",
      "_________________________________________________________________\n",
      "dense_3 (Dense)              (None, 128)               16512     \n",
      "_________________________________________________________________\n",
      "dense_4 (Dense)              (None, 128)               16512     \n",
      "_________________________________________________________________\n",
      "dense_5 (Dense)              (None, 128)               16512     \n",
      "_________________________________________________________________\n",
      "dense_6 (Dense)              (None, 128)               16512     \n",
      "_________________________________________________________________\n",
      "dense_7 (Dense)              (None, 128)               16512     \n",
      "_________________________________________________________________\n",
      "dense_8 (Dense)              (None, 3)                 387       \n",
      "=================================================================\n",
      "Total params: 116,611\n",
      "Trainable params: 116,611\n",
      "Non-trainable params: 0\n",
      "_________________________________________________________________\n"
     ]
    }
   ],
   "source": [
    "m1=NNmodel('evo',['mass','age','feh','MLT'],['L','Teff','delnu'])\n",
    "m1.loadModel('Ran_files/small_grid_28/small_grid_model.h5')"
   ]
  },
  {
   "cell_type": "code",
   "execution_count": 3,
   "metadata": {},
   "outputs": [
    {
     "name": "stdout",
     "output_type": "stream",
     "text": [
      "['EPIC_ID', 'WOCS_ID', 'Class', 'Î½max', 'âˆ†Î½', 'Teff/K', 'Rsc', 'Msc', 'log_gsc', 'Rcorr', 'Mcorr', 'Rgrid', 'Mgrid', 'log_ggrid', 'Agegrid']\n",
      "4.787096774193548 1.5612903225806454\n"
     ]
    }
   ],
   "source": [
    "rawdata=[]\n",
    "for line in open('M67_data.txt','r').read().split('\\n'):\n",
    "    rawdata.append(line.split(' '))\n",
    "print(rawdata[0])\n",
    "data=[]\n",
    "for stardata in rawdata[1:]:\n",
    "    if len(stardata)==len(rawdata[0]):\n",
    "        data.append(stardata)\n",
    "\n",
    "def readTable(index, data):\n",
    "    obss=[]\n",
    "    errs=[]\n",
    "    for stardata in data:\n",
    "        obs=float(stardata[index].split('(')[0])\n",
    "        err=stardata[index].split('(')[1][:-1]\n",
    "        if '.' not in err:\n",
    "            err=float('0.'+err)\n",
    "        else: err=float(err)\n",
    "        obss.append(obs)\n",
    "        errs.append(err)\n",
    "    return np.array(obss), np.array(errs)\n",
    "        \n",
    "ages, age_sigmas =  readTable(-1,data)\n",
    "delnus, delnu_errs = readTable(4,data)\n",
    "Teffs, Teff_errs = readTable(5,data)\n",
    "    \n",
    "Xobs=ages\n",
    "sigma_obs=np.average(age_sigmas)\n",
    "N=len(ages)\n",
    "print(np.mean(ages),sigma_obs)"
   ]
  },
  {
   "cell_type": "code",
   "execution_count": 42,
   "metadata": {},
   "outputs": [
    {
     "name": "stderr",
     "output_type": "stream",
     "text": [
      "Auto-assigning NUTS sampler...\n",
      "Initializing NUTS using jitter+adapt_diag...\n",
      "Multiprocess sampling (2 chains in 2 jobs)\n",
      "NUTS: [age, mass, spread_age, mean_age, spread_mass, mean_mass]\n",
      "Sampling 2 chains:  28%|███████████████▉                                         | 560/2000 [00:08<00:22, 63.94draws/s]\n"
     ]
    },
    {
     "ename": "RuntimeError",
     "evalue": "Chain 0 failed.",
     "output_type": "error",
     "traceback": [
      "\u001b[1;31m---------------------------------------------------------------------------\u001b[0m",
      "\u001b[1;31mRemoteTraceback\u001b[0m                           Traceback (most recent call last)",
      "\u001b[1;31mRemoteTraceback\u001b[0m: \n\"\"\"\nTraceback (most recent call last):\n  File \"C:\\Users\\User\\Anaconda3\\lib\\site-packages\\pymc3\\parallel_sampling.py\", line 110, in run\n    self._start_loop()\n  File \"C:\\Users\\User\\Anaconda3\\lib\\site-packages\\pymc3\\parallel_sampling.py\", line 160, in _start_loop\n    point, stats = self._compute_point()\n  File \"C:\\Users\\User\\Anaconda3\\lib\\site-packages\\pymc3\\parallel_sampling.py\", line 191, in _compute_point\n    point, stats = self._step_method.step(self._point)\n  File \"C:\\Users\\User\\Anaconda3\\lib\\site-packages\\pymc3\\step_methods\\arraystep.py\", line 247, in step\n    apoint, stats = self.astep(array)\n  File \"C:\\Users\\User\\Anaconda3\\lib\\site-packages\\pymc3\\step_methods\\hmc\\base_hmc.py\", line 130, in astep\n    self.potential.raise_ok(self._logp_dlogp_func._ordering.vmap)\n  File \"C:\\Users\\User\\Anaconda3\\lib\\site-packages\\pymc3\\step_methods\\hmc\\quadpotential.py\", line 231, in raise_ok\n    raise ValueError('\\n'.join(errmsg))\nValueError: Mass matrix contains zeros on the diagonal. \nThe derivative of RV `age`.ravel()[0] is zero.\nThe derivative of RV `age`.ravel()[1] is zero.\nThe derivative of RV `age`.ravel()[2] is zero.\nThe derivative of RV `age`.ravel()[3] is zero.\nThe derivative of RV `age`.ravel()[4] is zero.\nThe derivative of RV `age`.ravel()[5] is zero.\nThe derivative of RV `age`.ravel()[6] is zero.\nThe derivative of RV `age`.ravel()[7] is zero.\nThe derivative of RV `age`.ravel()[8] is zero.\nThe derivative of RV `age`.ravel()[9] is zero.\nThe derivative of RV `age`.ravel()[10] is zero.\nThe derivative of RV `age`.ravel()[11] is zero.\nThe derivative of RV `age`.ravel()[12] is zero.\nThe derivative of RV `age`.ravel()[13] is zero.\nThe derivative of RV `age`.ravel()[14] is zero.\nThe derivative of RV `age`.ravel()[15] is zero.\nThe derivative of RV `age`.ravel()[16] is zero.\nThe derivative of RV `age`.ravel()[17] is zero.\nThe derivative of RV `age`.ravel()[18] is zero.\nThe derivative of RV `age`.ravel()[19] is zero.\nThe derivative of RV `age`.ravel()[20] is zero.\nThe derivative of RV `age`.ravel()[21] is zero.\nThe derivative of RV `age`.ravel()[22] is zero.\nThe derivative of RV `age`.ravel()[23] is zero.\nThe derivative of RV `age`.ravel()[24] is zero.\nThe derivative of RV `age`.ravel()[25] is zero.\nThe derivative of RV `age`.ravel()[26] is zero.\nThe derivative of RV `age`.ravel()[27] is zero.\nThe derivative of RV `age`.ravel()[28] is zero.\nThe derivative of RV `age`.ravel()[29] is zero.\nThe derivative of RV `age`.ravel()[30] is zero.\nThe derivative of RV `mass`.ravel()[0] is zero.\nThe derivative of RV `mass`.ravel()[1] is zero.\nThe derivative of RV `mass`.ravel()[2] is zero.\nThe derivative of RV `mass`.ravel()[3] is zero.\nThe derivative of RV `mass`.ravel()[4] is zero.\nThe derivative of RV `mass`.ravel()[5] is zero.\nThe derivative of RV `mass`.ravel()[6] is zero.\nThe derivative of RV `mass`.ravel()[7] is zero.\nThe derivative of RV `mass`.ravel()[8] is zero.\nThe derivative of RV `mass`.ravel()[9] is zero.\nThe derivative of RV `mass`.ravel()[10] is zero.\nThe derivative of RV `mass`.ravel()[11] is zero.\nThe derivative of RV `mass`.ravel()[12] is zero.\nThe derivative of RV `mass`.ravel()[13] is zero.\nThe derivative of RV `mass`.ravel()[14] is zero.\nThe derivative of RV `mass`.ravel()[15] is zero.\nThe derivative of RV `mass`.ravel()[16] is zero.\nThe derivative of RV `mass`.ravel()[17] is zero.\nThe derivative of RV `mass`.ravel()[18] is zero.\nThe derivative of RV `mass`.ravel()[19] is zero.\nThe derivative of RV `mass`.ravel()[20] is zero.\nThe derivative of RV `mass`.ravel()[21] is zero.\nThe derivative of RV `mass`.ravel()[22] is zero.\nThe derivative of RV `mass`.ravel()[23] is zero.\nThe derivative of RV `mass`.ravel()[24] is zero.\nThe derivative of RV `mass`.ravel()[25] is zero.\nThe derivative of RV `mass`.ravel()[26] is zero.\nThe derivative of RV `mass`.ravel()[27] is zero.\nThe derivative of RV `mass`.ravel()[29] is zero.\nThe derivative of RV `mass`.ravel()[30] is zero.\nThe derivative of RV `spread_age_log__`.ravel()[0] is zero.\nThe derivative of RV `mean_age_log__`.ravel()[0] is zero.\nThe derivative of RV `spread_mass_log__`.ravel()[0] is zero.\nThe derivative of RV `mean_mass_log__`.ravel()[0] is zero.\n\"\"\"",
      "\nThe above exception was the direct cause of the following exception:\n",
      "\u001b[1;31mValueError\u001b[0m                                Traceback (most recent call last)",
      "\u001b[1;31mValueError\u001b[0m: Mass matrix contains zeros on the diagonal. \nThe derivative of RV `age`.ravel()[0] is zero.\nThe derivative of RV `age`.ravel()[1] is zero.\nThe derivative of RV `age`.ravel()[2] is zero.\nThe derivative of RV `age`.ravel()[3] is zero.\nThe derivative of RV `age`.ravel()[4] is zero.\nThe derivative of RV `age`.ravel()[5] is zero.\nThe derivative of RV `age`.ravel()[6] is zero.\nThe derivative of RV `age`.ravel()[7] is zero.\nThe derivative of RV `age`.ravel()[8] is zero.\nThe derivative of RV `age`.ravel()[9] is zero.\nThe derivative of RV `age`.ravel()[10] is zero.\nThe derivative of RV `age`.ravel()[11] is zero.\nThe derivative of RV `age`.ravel()[12] is zero.\nThe derivative of RV `age`.ravel()[13] is zero.\nThe derivative of RV `age`.ravel()[14] is zero.\nThe derivative of RV `age`.ravel()[15] is zero.\nThe derivative of RV `age`.ravel()[16] is zero.\nThe derivative of RV `age`.ravel()[17] is zero.\nThe derivative of RV `age`.ravel()[18] is zero.\nThe derivative of RV `age`.ravel()[19] is zero.\nThe derivative of RV `age`.ravel()[20] is zero.\nThe derivative of RV `age`.ravel()[21] is zero.\nThe derivative of RV `age`.ravel()[22] is zero.\nThe derivative of RV `age`.ravel()[23] is zero.\nThe derivative of RV `age`.ravel()[24] is zero.\nThe derivative of RV `age`.ravel()[25] is zero.\nThe derivative of RV `age`.ravel()[26] is zero.\nThe derivative of RV `age`.ravel()[27] is zero.\nThe derivative of RV `age`.ravel()[28] is zero.\nThe derivative of RV `age`.ravel()[29] is zero.\nThe derivative of RV `age`.ravel()[30] is zero.\nThe derivative of RV `mass`.ravel()[0] is zero.\nThe derivative of RV `mass`.ravel()[1] is zero.\nThe derivative of RV `mass`.ravel()[2] is zero.\nThe derivative of RV `mass`.ravel()[3] is zero.\nThe derivative of RV `mass`.ravel()[4] is zero.\nThe derivative of RV `mass`.ravel()[5] is zero.\nThe derivative of RV `mass`.ravel()[6] is zero.\nThe derivative of RV `mass`.ravel()[7] is zero.\nThe derivative of RV `mass`.ravel()[8] is zero.\nThe derivative of RV `mass`.ravel()[9] is zero.\nThe derivative of RV `mass`.ravel()[10] is zero.\nThe derivative of RV `mass`.ravel()[11] is zero.\nThe derivative of RV `mass`.ravel()[12] is zero.\nThe derivative of RV `mass`.ravel()[13] is zero.\nThe derivative of RV `mass`.ravel()[14] is zero.\nThe derivative of RV `mass`.ravel()[15] is zero.\nThe derivative of RV `mass`.ravel()[16] is zero.\nThe derivative of RV `mass`.ravel()[17] is zero.\nThe derivative of RV `mass`.ravel()[18] is zero.\nThe derivative of RV `mass`.ravel()[19] is zero.\nThe derivative of RV `mass`.ravel()[20] is zero.\nThe derivative of RV `mass`.ravel()[21] is zero.\nThe derivative of RV `mass`.ravel()[22] is zero.\nThe derivative of RV `mass`.ravel()[23] is zero.\nThe derivative of RV `mass`.ravel()[24] is zero.\nThe derivative of RV `mass`.ravel()[25] is zero.\nThe derivative of RV `mass`.ravel()[26] is zero.\nThe derivative of RV `mass`.ravel()[27] is zero.\nThe derivative of RV `mass`.ravel()[29] is zero.\nThe derivative of RV `mass`.ravel()[30] is zero.\nThe derivative of RV `spread_age_log__`.ravel()[0] is zero.\nThe derivative of RV `mean_age_log__`.ravel()[0] is zero.\nThe derivative of RV `spread_mass_log__`.ravel()[0] is zero.\nThe derivative of RV `mean_mass_log__`.ravel()[0] is zero.",
      "\nThe above exception was the direct cause of the following exception:\n",
      "\u001b[1;31mRuntimeError\u001b[0m                              Traceback (most recent call last)",
      "\u001b[1;32m<ipython-input-42-f376c44505ef>\u001b[0m in \u001b[0;36m<module>\u001b[1;34m\u001b[0m\n\u001b[0;32m     69\u001b[0m \u001b[1;31m#start = {'mass': 0.8, 'age': 2.5}\u001b[0m\u001b[1;33m\u001b[0m\u001b[1;33m\u001b[0m\u001b[1;33m\u001b[0m\u001b[0m\n\u001b[0;32m     70\u001b[0m \u001b[1;32mwith\u001b[0m \u001b[0mmodel\u001b[0m\u001b[1;33m:\u001b[0m\u001b[1;33m\u001b[0m\u001b[1;33m\u001b[0m\u001b[0m\n\u001b[1;32m---> 71\u001b[1;33m     \u001b[0mtrace\u001b[0m \u001b[1;33m=\u001b[0m \u001b[0mpm\u001b[0m\u001b[1;33m.\u001b[0m\u001b[0msample\u001b[0m\u001b[1;33m(\u001b[0m\u001b[1;33m)\u001b[0m\u001b[1;33m\u001b[0m\u001b[1;33m\u001b[0m\u001b[0m\n\u001b[0m",
      "\u001b[1;32m~\\Anaconda3\\lib\\site-packages\\pymc3\\sampling.py\u001b[0m in \u001b[0;36msample\u001b[1;34m(draws, step, init, n_init, start, trace, chain_idx, chains, cores, tune, progressbar, model, random_seed, discard_tuned_samples, compute_convergence_checks, **kwargs)\u001b[0m\n\u001b[0;32m    435\u001b[0m             \u001b[0m_print_step_hierarchy\u001b[0m\u001b[1;33m(\u001b[0m\u001b[0mstep\u001b[0m\u001b[1;33m)\u001b[0m\u001b[1;33m\u001b[0m\u001b[1;33m\u001b[0m\u001b[0m\n\u001b[0;32m    436\u001b[0m             \u001b[1;32mtry\u001b[0m\u001b[1;33m:\u001b[0m\u001b[1;33m\u001b[0m\u001b[1;33m\u001b[0m\u001b[0m\n\u001b[1;32m--> 437\u001b[1;33m                 \u001b[0mtrace\u001b[0m \u001b[1;33m=\u001b[0m \u001b[0m_mp_sample\u001b[0m\u001b[1;33m(\u001b[0m\u001b[1;33m**\u001b[0m\u001b[0msample_args\u001b[0m\u001b[1;33m)\u001b[0m\u001b[1;33m\u001b[0m\u001b[1;33m\u001b[0m\u001b[0m\n\u001b[0m\u001b[0;32m    438\u001b[0m             \u001b[1;32mexcept\u001b[0m \u001b[0mpickle\u001b[0m\u001b[1;33m.\u001b[0m\u001b[0mPickleError\u001b[0m\u001b[1;33m:\u001b[0m\u001b[1;33m\u001b[0m\u001b[1;33m\u001b[0m\u001b[0m\n\u001b[0;32m    439\u001b[0m                 \u001b[0m_log\u001b[0m\u001b[1;33m.\u001b[0m\u001b[0mwarning\u001b[0m\u001b[1;33m(\u001b[0m\u001b[1;34m\"Could not pickle model, sampling singlethreaded.\"\u001b[0m\u001b[1;33m)\u001b[0m\u001b[1;33m\u001b[0m\u001b[1;33m\u001b[0m\u001b[0m\n",
      "\u001b[1;32m~\\Anaconda3\\lib\\site-packages\\pymc3\\sampling.py\u001b[0m in \u001b[0;36m_mp_sample\u001b[1;34m(draws, tune, step, chains, cores, chain, random_seed, start, progressbar, trace, model, **kwargs)\u001b[0m\n\u001b[0;32m    967\u001b[0m         \u001b[1;32mtry\u001b[0m\u001b[1;33m:\u001b[0m\u001b[1;33m\u001b[0m\u001b[1;33m\u001b[0m\u001b[0m\n\u001b[0;32m    968\u001b[0m             \u001b[1;32mwith\u001b[0m \u001b[0msampler\u001b[0m\u001b[1;33m:\u001b[0m\u001b[1;33m\u001b[0m\u001b[1;33m\u001b[0m\u001b[0m\n\u001b[1;32m--> 969\u001b[1;33m                 \u001b[1;32mfor\u001b[0m \u001b[0mdraw\u001b[0m \u001b[1;32min\u001b[0m \u001b[0msampler\u001b[0m\u001b[1;33m:\u001b[0m\u001b[1;33m\u001b[0m\u001b[1;33m\u001b[0m\u001b[0m\n\u001b[0m\u001b[0;32m    970\u001b[0m                     \u001b[0mtrace\u001b[0m \u001b[1;33m=\u001b[0m \u001b[0mtraces\u001b[0m\u001b[1;33m[\u001b[0m\u001b[0mdraw\u001b[0m\u001b[1;33m.\u001b[0m\u001b[0mchain\u001b[0m \u001b[1;33m-\u001b[0m \u001b[0mchain\u001b[0m\u001b[1;33m]\u001b[0m\u001b[1;33m\u001b[0m\u001b[1;33m\u001b[0m\u001b[0m\n\u001b[0;32m    971\u001b[0m                     if (trace.supports_sampler_stats\n",
      "\u001b[1;32m~\\Anaconda3\\lib\\site-packages\\pymc3\\parallel_sampling.py\u001b[0m in \u001b[0;36m__iter__\u001b[1;34m(self)\u001b[0m\n\u001b[0;32m    391\u001b[0m \u001b[1;33m\u001b[0m\u001b[0m\n\u001b[0;32m    392\u001b[0m         \u001b[1;32mwhile\u001b[0m \u001b[0mself\u001b[0m\u001b[1;33m.\u001b[0m\u001b[0m_active\u001b[0m\u001b[1;33m:\u001b[0m\u001b[1;33m\u001b[0m\u001b[1;33m\u001b[0m\u001b[0m\n\u001b[1;32m--> 393\u001b[1;33m             \u001b[0mdraw\u001b[0m \u001b[1;33m=\u001b[0m \u001b[0mProcessAdapter\u001b[0m\u001b[1;33m.\u001b[0m\u001b[0mrecv_draw\u001b[0m\u001b[1;33m(\u001b[0m\u001b[0mself\u001b[0m\u001b[1;33m.\u001b[0m\u001b[0m_active\u001b[0m\u001b[1;33m)\u001b[0m\u001b[1;33m\u001b[0m\u001b[1;33m\u001b[0m\u001b[0m\n\u001b[0m\u001b[0;32m    394\u001b[0m             \u001b[0mproc\u001b[0m\u001b[1;33m,\u001b[0m \u001b[0mis_last\u001b[0m\u001b[1;33m,\u001b[0m \u001b[0mdraw\u001b[0m\u001b[1;33m,\u001b[0m \u001b[0mtuning\u001b[0m\u001b[1;33m,\u001b[0m \u001b[0mstats\u001b[0m\u001b[1;33m,\u001b[0m \u001b[0mwarns\u001b[0m \u001b[1;33m=\u001b[0m \u001b[0mdraw\u001b[0m\u001b[1;33m\u001b[0m\u001b[1;33m\u001b[0m\u001b[0m\n\u001b[0;32m    395\u001b[0m             \u001b[1;32mif\u001b[0m \u001b[0mself\u001b[0m\u001b[1;33m.\u001b[0m\u001b[0m_progress\u001b[0m \u001b[1;32mis\u001b[0m \u001b[1;32mnot\u001b[0m \u001b[1;32mNone\u001b[0m\u001b[1;33m:\u001b[0m\u001b[1;33m\u001b[0m\u001b[1;33m\u001b[0m\u001b[0m\n",
      "\u001b[1;32m~\\Anaconda3\\lib\\site-packages\\pymc3\\parallel_sampling.py\u001b[0m in \u001b[0;36mrecv_draw\u001b[1;34m(processes, timeout)\u001b[0m\n\u001b[0;32m    295\u001b[0m             \u001b[1;32melse\u001b[0m\u001b[1;33m:\u001b[0m\u001b[1;33m\u001b[0m\u001b[1;33m\u001b[0m\u001b[0m\n\u001b[0;32m    296\u001b[0m                 \u001b[0merror\u001b[0m \u001b[1;33m=\u001b[0m \u001b[0mRuntimeError\u001b[0m\u001b[1;33m(\u001b[0m\u001b[1;34m\"Chain %s failed.\"\u001b[0m \u001b[1;33m%\u001b[0m \u001b[0mproc\u001b[0m\u001b[1;33m.\u001b[0m\u001b[0mchain\u001b[0m\u001b[1;33m)\u001b[0m\u001b[1;33m\u001b[0m\u001b[1;33m\u001b[0m\u001b[0m\n\u001b[1;32m--> 297\u001b[1;33m             \u001b[1;32mraise\u001b[0m \u001b[0merror\u001b[0m \u001b[1;32mfrom\u001b[0m \u001b[0mold_error\u001b[0m\u001b[1;33m\u001b[0m\u001b[1;33m\u001b[0m\u001b[0m\n\u001b[0m\u001b[0;32m    298\u001b[0m         \u001b[1;32melif\u001b[0m \u001b[0mmsg\u001b[0m\u001b[1;33m[\u001b[0m\u001b[1;36m0\u001b[0m\u001b[1;33m]\u001b[0m \u001b[1;33m==\u001b[0m \u001b[1;34m\"writing_done\"\u001b[0m\u001b[1;33m:\u001b[0m\u001b[1;33m\u001b[0m\u001b[1;33m\u001b[0m\u001b[0m\n\u001b[0;32m    299\u001b[0m             \u001b[0mproc\u001b[0m\u001b[1;33m.\u001b[0m\u001b[0m_readable\u001b[0m \u001b[1;33m=\u001b[0m \u001b[1;32mTrue\u001b[0m\u001b[1;33m\u001b[0m\u001b[1;33m\u001b[0m\u001b[0m\n",
      "\u001b[1;31mRuntimeError\u001b[0m: Chain 0 failed."
     ]
    }
   ],
   "source": [
    "m1.getWeights()\n",
    "\n",
    "weights=m1.model.get_weights()\n",
    "def manualPredict(inputs):\n",
    "    no_hidden_layers = len(weights)/2-1\n",
    "    input shape = 2D array with N rows of parameters, each of M columns of stars\n",
    "    xx=inputs\n",
    "    for i in np.arange(0,no_hidden_layers)*2:\n",
    "        i=int(i)\n",
    "        xx=TT.nnet.relu(pm.math.dot(weights[i].T,xx).T+weights[i+1]).T\n",
    "    xx=(TT.dot(weights[-2].T,xx).T+weights[-1]).T\n",
    "    return xx\n",
    "\n",
    "#mass mean - lognormal\n",
    "M_mu_mu = 1\n",
    "M_mu_sigma = 1\n",
    "#mass sigma - half normal\n",
    "M_sigma_sigma = 5\n",
    "\n",
    "#age mean - lognormal\n",
    "Age_mu_mu = 4.5\n",
    "Age_mu_sigma = 1\n",
    "#age sigma - half normal\n",
    "Age_sigma_sigma = 5\n",
    "\n",
    "#feh mean - normal\n",
    "feh_mu_mu = 0\n",
    "feh_mu_sigma = 1\n",
    "#feh sigma - half normal\n",
    "feh_sigma_sigma = 1\n",
    "\n",
    "#alpha MLT mean - normal\n",
    "MLT_mu_mu = 2\n",
    "MLT_mu_sigma = 1\n",
    "#alpha MLT sigma - half normal\n",
    "MLT_sigma_sigma = 0.5\n",
    "\n",
    "N = len(data)\n",
    "\n",
    "model = pm.Model()\n",
    "with model:\n",
    "    M_mu = pm.Lognormal('mean_mass', np.log10(M_mu_mu), M_mu_sigma)\n",
    "    M_sigma = pm.HalfNormal('spread_mass', M_sigma_sigma)\n",
    "    \n",
    "    Age_mu = pm.Lognormal('mean_age', np.log10(Age_mu_mu), Age_mu_sigma)\n",
    "    Age_sigma = pm.HalfNormal('spread_age', Age_sigma_sigma)\n",
    "    \n",
    "    #feh_mu = pm.Normal('mean_feh', feh_mu_mu, feh_mu_sigma)\n",
    "    #feh_sigma = pm.HalfNormal('spread_feh', feh_sigma_sigma)\n",
    "    \n",
    "    #MLT_mu = pm.Normal('mean_MLT', MLT_mu_mu, MLT_mu_sigma)\n",
    "    #MLT_sigma = pm.HalfNormal('spread_MLT', MLT_sigma_sigma)\n",
    "    \n",
    "    M = pm.Normal('mass', M_mu, M_sigma, shape=N)\n",
    "    log_m = np.log10(M)\n",
    "    Age = pm.Normal('age', Age_mu, Age_sigma, shape=N)\n",
    "    log_a = np.log10(Age)\n",
    "    #feh = pm.Normal('feh', feh_mu, feh_sigma, shape=N)\n",
    "    feh = np.zeros(N)\n",
    "    #MLT = pm.Normal('MLT', MLT_mu, MLT_sigma, shape=N)\n",
    "    MLT = np.ones(N)*1.9\n",
    "    \n",
    "    obs = pm.Deterministic('obs',manualPredict([log_m, log_a, feh, MLT]))\n",
    "    \n",
    "    #obs_L = pm.Normal('obs_L',10**obs[0],0.1, observed=1.0)\n",
    "    obs_Teff = pm.Normal('obs_Teff',10**obs[1],Teff_errs, observed=Teffs)\n",
    "    obs_delnu = pm.Normal('obs_delnu',10**obs[2],delnu_errs, observed=delnus)\n",
    "\n",
    "#start = {'mass': 0.8, 'age': 2.5}\n",
    "with model:\n",
    "    trace = pm.sample()"
   ]
  },
  {
   "cell_type": "code",
   "execution_count": 43,
   "metadata": {},
   "outputs": [
    {
     "name": "stdout",
     "output_type": "stream",
     "text": [
      "[0.1 0.2]\n",
      "[[  30.1  300.1 3000.1]\n",
      " [  35.2  350.2 3500.2]]\n"
     ]
    }
   ],
   "source": [
    "a=np.array([[1,2,3,4],[10,20,30,40],[100,200,300,400]])\n",
    "b=np.array([[1,1.5],[2,2.5],[3,3.5],[4,4.5]])\n",
    "#c=np.array([[0.1,0.2],[0.1,0.2],[0.1,0.2]]).T\n",
    "#c=np.repeat([[0.1,0.2]],len(a),axis=0).T\n",
    "c=np.array([0.1,0.2])\n",
    "print(c)\n",
    "#a=T.shared(a)\n",
    "#b=T.shared(b)\n",
    "#print(a.shape.eval(),b.shape.eval())\n",
    "print((TT.dot(b.T,a.T).T+c).T.eval())"
   ]
  },
  {
   "cell_type": "code",
   "execution_count": 22,
   "metadata": {},
   "outputs": [
    {
     "name": "stdout",
     "output_type": "stream",
     "text": [
      "3\n"
     ]
    }
   ],
   "source": [
    "print(a.shape.eval()[0])"
   ]
  },
  {
   "cell_type": "code",
   "execution_count": 51,
   "metadata": {},
   "outputs": [
    {
     "data": {
      "text/plain": [
       "dot.0"
      ]
     },
     "execution_count": 51,
     "metadata": {},
     "output_type": "execute_result"
    }
   ],
   "source": [
    "k=T.shared(weights[0])\n",
    "TT.dot(k,k.T)"
   ]
  },
  {
   "cell_type": "code",
   "execution_count": 20,
   "metadata": {},
   "outputs": [
    {
     "data": {
      "text/plain": [
       "array([[[  1,   2,   3,   4]],\n",
       "\n",
       "       [[ 10,  20,  30,  40]],\n",
       "\n",
       "       [[100, 200, 300, 400]]])"
      ]
     },
     "execution_count": 20,
     "metadata": {},
     "output_type": "execute_result"
    }
   ],
   "source": [
    "TT.reshape(a,newshape=(3,1,4)).eval()"
   ]
  },
  {
   "cell_type": "code",
   "execution_count": null,
   "metadata": {},
   "outputs": [],
   "source": []
  }
 ],
 "metadata": {
  "kernelspec": {
   "display_name": "Python 3",
   "language": "python",
   "name": "python3"
  },
  "language_info": {
   "codemirror_mode": {
    "name": "ipython",
    "version": 3
   },
   "file_extension": ".py",
   "mimetype": "text/x-python",
   "name": "python",
   "nbconvert_exporter": "python",
   "pygments_lexer": "ipython3",
   "version": "3.7.3"
  }
 },
 "nbformat": 4,
 "nbformat_minor": 2
}
