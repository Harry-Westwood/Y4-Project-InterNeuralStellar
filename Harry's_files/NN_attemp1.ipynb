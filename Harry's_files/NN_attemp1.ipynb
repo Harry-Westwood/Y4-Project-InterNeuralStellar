{
 "cells": [
  {
   "cell_type": "code",
   "execution_count": 1,
   "metadata": {},
   "outputs": [],
   "source": [
    "import tensorflow as tf\n",
    "from tensorflow import keras\n",
    "from tensorflow.keras import layers\n",
    "import numpy as np\n",
    "import seaborn as sns\n",
    "import matplotlib.pyplot as plt\n",
    "import pandas as pd\n",
    "from datetime import datetime\n",
    "import pickle"
   ]
  },
  {
   "cell_type": "code",
   "execution_count": 2,
   "metadata": {},
   "outputs": [
    {
     "data": {
      "text/plain": [
       "<matplotlib.collections.PathCollection at 0x2268953ab70>"
      ]
     },
     "execution_count": 2,
     "metadata": {},
     "output_type": "execute_result"
    },
    {
     "data": {
      "image/png": "[encoded data removed]",
      "text/plain": [
       "<Figure size 432x288 with 1 Axes>"
      ]
     },
     "metadata": {
      "needs_background": "light"
     },
     "output_type": "display_data"
    }
   ],
   "source": [
    "N=10000\n",
    "nodes = 20\n",
    "epochs = 10000\n",
    "\n",
    "x_range=[-4*np.pi,4*np.pi]\n",
    "period=0.5*np.pi\n",
    "\n",
    "\n",
    "x_data =np.random.rand(N)*(x_range[1]-x_range[0])+x_range[0]\n",
    "y_data =np.sin(x_data*(2*np.pi/period))\n",
    "\n",
    "x_test_range = [-0.5*np.pi,0.5*np.pi]\n",
    "x_test=np.random.rand(N)*(x_test_range[1]-x_test_range[0])+x_test_range[0]\n",
    "y_test = np.sin(x_test*(2*np.pi/period))\n",
    "#x_squared=x_test**2 \n",
    "#x_squared=x_data**2 \n",
    "\n",
    "plt.scatter(x_data,y_data)"
   ]
  },
  {
   "cell_type": "code",
   "execution_count": 3,
   "metadata": {},
   "outputs": [],
   "source": [
    "'''\n",
    "xtestrange=xrange\n",
    "#x_test=np.random.rand(int(N/10))*(xtestrange[1]-xtestrange[0])+xtestrange[0]\n",
    "#x_test = np.linspace(xtestrange[0],xtestrange[1],N)\n",
    "x_test = x\n",
    "#y_test=np.sin(x_test*(2*np.pi/period))\n",
    "y_test = y\n",
    "'''"
   ]
  },
  {
   "cell_type": "code",
   "execution_count": 3,
   "metadata": {},
   "outputs": [
    {
     "data": {
      "text/plain": [
       "\"\\nopt = keras.optimizers.Nadam(lr=0.004, beta_1=0.9995, beta_2=0.999, epsilon=1e-9)\\nmodel.compile(loss='mean_absolute_error',\\n              optimizer=opt,\\n              metrics=['mae', 'mse'])\\n\""
      ]
     },
     "execution_count": 3,
     "metadata": {},
     "output_type": "execute_result"
    }
   ],
   "source": [
    "#nodes = 100\n",
    "\n",
    "inputs=keras.Input(shape=(1,))\n",
    "xx=keras.layers.Dense(nodes,activation='relu')(inputs)\n",
    "xx=keras.layers.Dense(nodes,activation='relu')(xx)\n",
    "xx=keras.layers.Dense(nodes,activation='relu')(xx)\n",
    "xx=keras.layers.Dense(nodes,activation='relu')(xx)\n",
    "#xx=keras.layers.Dense(nodes,activation='relu')(xx)\n",
    "outputs=keras.layers.Dense(1,activation='linear')(xx)\n",
    "model = keras.Model(inputs=inputs, outputs=outputs)\n",
    "\n",
    "model.compile(optimizer='Nadam',\n",
    "              loss='MAE',\n",
    "              metrics=['accuracy'])\n",
    "\n",
    "'''\n",
    "opt = keras.optimizers.Nadam(lr=0.004, beta_1=0.9995, beta_2=0.999, epsilon=1e-9)\n",
    "model.compile(loss='mean_absolute_error',\n",
    "              optimizer=opt,\n",
    "              metrics=['mae', 'mse'])\n",
    "'''"
   ]
  },
  {
   "cell_type": "code",
   "execution_count": 4,
   "metadata": {},
   "outputs": [
    {
     "name": "stdout",
     "output_type": "stream",
     "text": [
      "0.0%\n",
      "1.0%\n",
      "2.0%\n",
      "3.0%\n",
      "4.0%\n",
      "5.0%\n",
      "6.0%\n",
      "7.000000000000001%\n",
      "8.0%\n",
      "9.0%\n",
      "10.0%\n",
      "11.0%\n",
      "12.0%\n",
      "13.0%\n",
      "14.000000000000002%\n",
      "15.0%\n",
      "16.0%\n",
      "17.0%\n",
      "18.0%\n",
      "19.0%\n",
      "20.0%\n",
      "21.0%\n",
      "22.0%\n",
      "23.0%\n",
      "24.0%\n",
      "25.0%\n",
      "26.0%\n",
      "27.0%\n",
      "28.000000000000004%\n",
      "28.999999999999996%\n",
      "30.0%\n",
      "31.0%\n",
      "32.0%\n",
      "33.0%\n",
      "34.0%\n",
      "35.0%\n",
      "36.0%\n",
      "37.0%\n",
      "38.0%\n",
      "39.0%\n",
      "40.0%\n",
      "41.0%\n",
      "42.0%\n",
      "43.0%\n",
      "44.0%\n",
      "45.0%\n",
      "46.0%\n",
      "47.0%\n",
      "48.0%\n",
      "49.0%\n",
      "50.0%\n",
      "51.0%\n",
      "52.0%\n",
      "53.0%\n",
      "54.0%\n",
      "55.00000000000001%\n",
      "56.00000000000001%\n",
      "56.99999999999999%\n",
      "57.99999999999999%\n",
      "59.0%\n",
      "60.0%\n",
      "61.0%\n",
      "62.0%\n",
      "63.0%\n",
      "64.0%\n",
      "65.0%\n",
      "66.0%\n",
      "67.0%\n",
      "68.0%\n",
      "69.0%\n",
      "70.0%\n",
      "71.0%\n",
      "72.0%\n",
      "73.0%\n",
      "74.0%\n",
      "75.0%\n",
      "76.0%\n",
      "77.0%\n",
      "78.0%\n",
      "79.0%\n",
      "80.0%\n",
      "81.0%\n",
      "82.0%\n",
      "83.0%\n",
      "84.0%\n",
      "85.0%\n",
      "86.0%\n",
      "87.0%\n",
      "88.0%\n",
      "89.0%\n",
      "90.0%\n",
      "91.0%\n",
      "92.0%\n",
      "93.0%\n",
      "94.0%\n",
      "95.0%\n",
      "96.0%\n",
      "97.0%\n",
      "98.0%\n",
      "99.0%\n",
      "100.0%\n"
     ]
    }
   ],
   "source": [
    "\n",
    "#model.fit(np.array([x_data,x_squared]).T,y_data,epochs=1000,verbose=0)\n",
    "#model.fit(np.array([x_data,x_squared]).T,y_data,epochs=10,verbose=1) #verbose=1 gives printout for each epoch\n",
    "#epochs = 10000\n",
    "\n",
    "def epochs_progress(epochs=epochs,perc_step = 'one'): #perc_step either takes 'ten' or 'one'\n",
    "    #eps = np.array(list(range(epochs)))\n",
    "    eps_perc = np.array(list(range(epochs)))/epochs\n",
    "\n",
    "    if perc_step == 'one':\n",
    "        percs = np.linspace(0,1,101)\n",
    "    elif perc_step == 'ten':\n",
    "        percs = np.linspace(0,1,11)\n",
    "    else:\n",
    "        perc_step_error = '\"perc_step\" takes the valid parameters \"one\" or \"ten\" not: \"{}\"'.format(perc_step)\n",
    "        raise Exception(perc_step_error)\n",
    "    perc_list = []\n",
    "    for i in percs:\n",
    "        perc_list.append(eps_perc[(np.abs(eps_perc - i)).argmin()])\n",
    "    return perc_list\n",
    "progress = epochs_progress(perc_step='one')\n",
    "\n",
    "#'''\n",
    "logdir = \"logs/scalars/\" + datetime.now().strftime(\"%Y%m%d-%H%M%S\")\n",
    "tensorboard_callback = keras.callbacks.TensorBoard(log_dir=logdir)\n",
    "\n",
    "class PrintDot(keras.callbacks.Callback):\n",
    "  def on_epoch_end(self, epoch, logs):\n",
    "    #if epoch % 10000 == 0: print('')\n",
    "    #if epoch % 10 == 0: print('.', end='')\n",
    "    #if epoch % 10 == 0: print(str(int((epoch/epochs)*100))+'%')\n",
    "     if epoch/epochs in progress:\n",
    "        if len(progress) == 11:\n",
    "                print(str(round(epoch/epochs,1)*100)+'%')\n",
    "        else:\n",
    "                print(str(round(epoch/epochs,2)*100)+'%')\n",
    "\n",
    "       \n",
    "#model.fit(np.array([x_data,x_squared]).T, y_data,\n",
    "model.fit(np.array([x_data]).T, y_data,\n",
    "    epochs=epochs,\n",
    "    #validation_split=0.00, \n",
    "    verbose=0,\n",
    "    callbacks=[PrintDot()])\n",
    "#'''\n",
    "model.save('NN_attempt1.h5')"
   ]
  },
  {
   "cell_type": "code",
   "execution_count": 13,
   "metadata": {},
   "outputs": [
    {
     "name": "stdout",
     "output_type": "stream",
     "text": [
      "10000/1 - 0s - loss: 0.0631 - accuracy: 1.0000e-04\n"
     ]
    },
    {
     "data": {
      "text/plain": [
       "[0.03508645852804184, 1e-04]"
      ]
     },
     "execution_count": 13,
     "metadata": {},
     "output_type": "execute_result"
    }
   ],
   "source": [
    "x_test_range = [-3*np.pi,3*np.pi]\n",
    "x_test=np.random.rand(N)*(x_test_range[1]-x_test_range[0])+x_test_range[0]\n",
    "y_test = np.sin(x_test*(2*np.pi/period))\n",
    "#model.evaluate(np.array([x_test,x_test**2]).T,y_test,verbose=2)\n",
    "model.evaluate(np.array([x_test]).T,y_test,verbose=2)"
   ]
  },
  {
   "cell_type": "code",
   "execution_count": 14,
   "metadata": {},
   "outputs": [
    {
     "data": {
      "image/png": "[encoded data removed]",
      "text/plain": [
       "<Figure size 432x288 with 1 Axes>"
      ]
     },
     "metadata": {
      "needs_background": "light"
     },
     "output_type": "display_data"
    }
   ],
   "source": [
    "\n",
    "#predictions=model.predict(np.array([x_test,x_test**2]).T,verbose=0)\n",
    "predictions=model.predict(np.array([x_test]).T,verbose=0)\n",
    "plt.scatter(x_test,y_test)\n",
    "plt.scatter(x_test,predictions)\n",
    "plt.show()"
   ]
  },
  {
   "cell_type": "code",
   "execution_count": null,
   "metadata": {},
   "outputs": [],
   "source": []
  },
  {
   "cell_type": "code",
   "execution_count": null,
   "metadata": {},
   "outputs": [],
   "source": []
  }
 ],
 "metadata": {
  "kernelspec": {
   "display_name": "Python 3",
   "language": "python",
   "name": "python3"
  },
  "language_info": {
   "codemirror_mode": {
    "name": "ipython",
    "version": 3
   },
   "file_extension": ".py",
   "mimetype": "text/x-python",
   "name": "python",
   "nbconvert_exporter": "python",
   "pygments_lexer": "ipython3",
   "version": "3.7.3"
  }
 },
 "nbformat": 4,
 "nbformat_minor": 2
}
