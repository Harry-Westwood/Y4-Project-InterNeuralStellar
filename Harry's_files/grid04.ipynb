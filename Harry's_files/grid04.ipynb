{
  "nbformat": 4,
  "nbformat_minor": 0,
  "metadata": {
    "accelerator": "GPU",
    "colab": {
      "name": "grid04.ipynb",
      "provenance": [],
      "toc_visible": true
    },
    "kernelspec": {
      "display_name": "Python 3",
      "language": "python",
      "name": "python3"
    },
    "language_info": {
      "codemirror_mode": {
        "name": "ipython",
        "version": 3
      },
      "file_extension": ".py",
      "mimetype": "text/x-python",
      "name": "python",
      "nbconvert_exporter": "python",
      "pygments_lexer": "ipython3",
      "version": "3.7.3"
    }
  },
  "cells": [
    {
      "cell_type": "code",
      "metadata": {
        "colab_type": "code",
        "id": "Wu5LwhI2qlT_",
        "outputId": "16b55dd6-f044-4070-f144-c64516ce50c3",
        "colab": {
          "base_uri": "https://localhost:8080/",
          "height": 121
        }
      },
      "source": [
        "from google.colab import drive\n",
        "\n",
        "drive.mount('/content/drive')"
      ],
      "execution_count": 1,
      "outputs": [
        {
          "output_type": "stream",
          "text": [
            "Go to this URL in a browser: https://accounts.google.com/o/oauth2/auth?client_id=947318989803-6bn6qk8qdgf4n4g3pfee6491hc0brc4i.apps.googleusercontent.com&redirect_uri=urn%3aietf%3awg%3aoauth%3a2.0%3aoob&response_type=code&scope=email%20https%3a%2f%2fwww.googleapis.com%2fauth%2fdocs.test%20https%3a%2f%2fwww.googleapis.com%2fauth%2fdrive%20https%3a%2f%2fwww.googleapis.com%2fauth%2fdrive.photos.readonly%20https%3a%2f%2fwww.googleapis.com%2fauth%2fpeopleapi.readonly\n",
            "\n",
            "Enter your authorization code:\n",
            "··········\n",
            "Mounted at /content/drive\n"
          ],
          "name": "stdout"
        }
      ]
    },
    {
      "cell_type": "code",
      "metadata": {
        "id": "YL82SeS4vQuo",
        "colab_type": "code",
        "colab": {
          "base_uri": "https://localhost:8080/",
          "height": 79
        },
        "outputId": "490b7a7e-8d72-4d14-90bd-facd1e527e58"
      },
      "source": [
        "import numpy as np\n",
        "from neuralStellar2 import stellarGrid,NNmodel\n",
        "from datetime import datetime\n",
        "from matplotlib import rc\n",
        "rc(\"font\", family=\"serif\", size=14)\n",
        "import pandas as pd\n",
        "import matplotlib.pyplot as plt\n",
        "import tensorflow as tf\n",
        "from tensorflow import keras\n",
        "from tensorflow.keras.constraints import max_norm\n",
        "from tensorflow.keras import layers\n",
        "from tensorflow.keras.regularizers import l1, l2\n",
        "import pickle\n",
        "\n",
        "config = tf.ConfigProto(device_count = {'GPU': 0})\n",
        "sess = tf.Session(config=config)\n",
        "config.gpu_options.allow_growth = True"
      ],
      "execution_count": 2,
      "outputs": [
        {
          "output_type": "display_data",
          "data": {
            "text/html": [
              "<p style=\"color: red;\">\n",
              "The default version of TensorFlow in Colab will soon switch to TensorFlow 2.x.<br>\n",
              "We recommend you <a href=\"https://www.tensorflow.org/guide/migrate\" target=\"_blank\">upgrade</a> now \n",
              "or ensure your notebook will continue to use TensorFlow 1.x via the <code>%tensorflow_version 1.x</code> magic:\n",
              "<a href=\"https://colab.research.google.com/notebooks/tensorflow_version.ipynb\" target=\"_blank\">more info</a>.</p>\n"
            ],
            "text/plain": [
              "<IPython.core.display.HTML object>"
            ]
          },
          "metadata": {
            "tags": []
          }
        },
        {
          "output_type": "stream",
          "text": [
            "Using TensorFlow backend.\n"
          ],
          "name": "stderr"
        }
      ]
    },
    {
      "cell_type": "code",
      "metadata": {
        "colab_type": "code",
        "id": "lNp4bmh2qyjS",
        "colab": {}
      },
      "source": [
        "def set_seed(self, seed):\n",
        "    ''' Set the seed '''\n",
        "    np.random.seed(seed)\n",
        "    tf.random.set_random_seed(seed)\n",
        "NNmodel.set_seed = set_seed\n",
        "\n",
        "grid_file='drive/My Drive/4th Year Project/grid_0_0.csv'\n",
        "df = pd.read_csv(grid_file)\n",
        "\n",
        "df['tenstarfeh'] = 10**df.star_feh # not required because already in grid\n",
        "df['scale_T'] = (df.effective_T/5000) #adds additional column for experimenting\n",
        "df = df.sample(frac=1).reset_index(drop=True) #shuffling\n",
        "#print(df.keys())\n",
        "x_cols = ['star_mass', 'star_age', 'tenstarfeh', 'star_MLT'] #inputs cols\n",
        "y_cols = ['radius', 'scale_T', 'delta_nu'] # output cols"
      ],
      "execution_count": 0,
      "outputs": []
    },
    {
      "cell_type": "code",
      "metadata": {
        "colab_type": "code",
        "id": "wLOUXXZrrCgY",
        "outputId": "19f696dd-e708-436f-d1bf-6b8474214fb4",
        "colab": {
          "base_uri": "https://localhost:8080/",
          "height": 370
        }
      },
      "source": [
        "#arch = [len(x_cols),'bn',64,64,64,64,64,64, len(y_cols)]\n",
        "arch = [len(x_cols),16,16,16,16, len(y_cols)]\n",
        "#arch = [len(x_cols), 'bn',128,128,128,128,128,128,128,128,256,256, len(y_cols)]\n",
        "m1=NNmodel('evo',['mass', 'age', 'feh', 'MLT'], ['radius', 'Teff', 'delnu'])\n",
        "m1.buildModel(arch=arch, activation='elu',reg=['l1',0.00001],dropout=None)\n",
        "m1.compileModel(opt='Nadam', lr=0.001, loss='MAE', metrics=['MAE','MSE'], beta_1=0.9995, beta_2=0.999) #\n",
        "m1.fitModel(df=df, cols=[x_cols,y_cols], epoch_no=20, batch_size=1000000, save_name='drive/My Drive/4th Year Project/{}/{}'.format(\"test\",\"\"))"
      ],
      "execution_count": 40,
      "outputs": [
        {
          "output_type": "stream",
          "text": [
            "Model: \"neuralstellar\"\n",
            "_________________________________________________________________\n",
            "Layer (type)                 Output Shape              Param #   \n",
            "=================================================================\n",
            "input_2 (InputLayer)         [(None, 4)]               0         \n",
            "_________________________________________________________________\n",
            "dense_7 (Dense)              (None, 16)                80        \n",
            "_________________________________________________________________\n",
            "dense_8 (Dense)              (None, 16)                272       \n",
            "_________________________________________________________________\n",
            "dense_9 (Dense)              (None, 16)                272       \n",
            "_________________________________________________________________\n",
            "dense_10 (Dense)             (None, 16)                272       \n",
            "_________________________________________________________________\n",
            "dense_11 (Dense)             (None, 3)                 51        \n",
            "=================================================================\n",
            "Total params: 947\n",
            "Trainable params: 947\n",
            "Non-trainable params: 0\n",
            "_________________________________________________________________\n",
            "training done! now=2020-02-13 23:33:45.559891 | Time lapsed=0:00:01.102314\n"
          ],
          "name": "stdout"
        }
      ]
    },
    {
      "cell_type": "code",
      "metadata": {
        "id": "k78-YFBT6IKh",
        "colab_type": "code",
        "colab": {}
      },
      "source": [
        "from tensorflow.keras.layers import Input, Dense\n",
        "from tensorflow.keras.models import Model\n",
        "from tensorflow.keras.optimizers import SGD\n",
        "import keras.backend as K\n",
        "import numpy as np\n",
        "import tensorflow as tf\n",
        "tf.compat.v1.enable_eager_execution()\n",
        "\n",
        "ipt = Input((12,))\n",
        "out = Dense(12)(ipt)\n",
        "model = Model(ipt, out)\n",
        "model.compile(SGD(1e-4, decay=1e-2, momentum = 0, nesterov = False), loss='mse')\n",
        "\n",
        "x = y = np.random.randn(32, 12)  # dummy data\n",
        "for iteration in range(10):\n",
        "    model.train_on_batch(x, y)\n",
        "    y_true = model.optimizer._decayed_lr('float32').numpy()\n",
        "    #print(y_true)\n",
        "    #y_true = K.print_tensor(y_true, message='y_true = ')\n",
        "    #print(type(model.optimizer._decayed_lr('float32')))\n",
        "    #print(\"lr at iteration {}: {}\".format(iteration + 1, model.optimizer._decayed_lr('float32')))\n"
      ],
      "execution_count": 0,
      "outputs": []
    },
    {
      "cell_type": "code",
      "metadata": {
        "id": "0a0y8b_Aut0N",
        "colab_type": "code",
        "colab": {
          "base_uri": "https://localhost:8080/",
          "height": 34
        },
        "outputId": "01fd66fc-0cc7-494b-89b9-f8f43b35dd4c"
      },
      "source": [
        "print(model.optimizer._decayed_lr('float32').numpy())\n"
      ],
      "execution_count": 9,
      "outputs": [
        {
          "output_type": "stream",
          "text": [
            "9.090909e-05\n"
          ],
          "name": "stdout"
        }
      ]
    },
    {
      "cell_type": "code",
      "metadata": {
        "id": "pGS40USm4xJs",
        "colab_type": "code",
        "colab": {
          "base_uri": "https://localhost:8080/",
          "height": 54
        },
        "outputId": "2f8d9b29-65c2-4dfd-a680-7bb12147f96b"
      },
      "source": [
        ""
      ],
      "execution_count": 6,
      "outputs": [
        {
          "output_type": "stream",
          "text": [
            "{'name': 'model_1', 'layers': [{'name': 'input_2', 'class_name': 'InputLayer', 'config': {'batch_input_shape': (None, 12), 'dtype': 'float32', 'sparse': False, 'ragged': False, 'name': 'input_2'}, 'inbound_nodes': []}, {'name': 'dense_1', 'class_name': 'Dense', 'config': {'name': 'dense_1', 'trainable': True, 'dtype': 'float32', 'units': 12, 'activation': 'linear', 'use_bias': True, 'kernel_initializer': {'class_name': 'GlorotUniform', 'config': {'seed': None, 'dtype': 'float32'}}, 'bias_initializer': {'class_name': 'Zeros', 'config': {'dtype': 'float32'}}, 'kernel_regularizer': None, 'bias_regularizer': None, 'activity_regularizer': None, 'kernel_constraint': None, 'bias_constraint': None}, 'inbound_nodes': [[['input_2', 0, 0, {}]]]}], 'input_layers': [['input_2', 0, 0]], 'output_layers': [['dense_1', 0, 0]]}\n"
          ],
          "name": "stdout"
        }
      ]
    },
    {
      "cell_type": "code",
      "metadata": {
        "id": "GlZuUt58x_Ht",
        "colab_type": "code",
        "colab": {}
      },
      "source": [
        "\"\"\"\n",
        "#dir(m1.model.optimizer)\n",
        " '_compute_gradients',\n",
        " '_decayed_lr',\n",
        " '_gather_saveables_for_checkpoint',\n",
        " '_get_hyper',\n",
        " '_initial_decay',\n",
        " '_iterations',\n",
        " '_set_hyper',\n",
        " '_track_trackable',\n",
        " '_tracking_metadata',\n",
        " '_weights',\n",
        " 'add_slot',\n",
        " 'add_weight',\n",
        " 'apply_gradients',\n",
        " 'epsilon',\n",
        " 'from_config',\n",
        " 'get_config',\n",
        " 'get_gradients',\n",
        " 'get_slot',\n",
        " 'get_updates',\n",
        " 'get_weights',\n",
        " 'iterations',\n",
        " 'minimize',\n",
        " 'set_weights',\n",
        " 'variables',\n",
        " 'weights'\n",
        "\"\"\""
      ],
      "execution_count": 0,
      "outputs": []
    }
  ]
}