{
 "cells": [
  {
   "cell_type": "code",
   "execution_count": 1,
   "metadata": {
    "colab": {
     "base_uri": "https://localhost:8080/",
     "height": 83
    },
    "colab_type": "code",
    "id": "Wu5LwhI2qlT_",
    "outputId": "f6349feb-7e22-4b16-99c7-83a3b889ec6e"
   },
   "outputs": [
    {
     "name": "stderr",
     "output_type": "stream",
     "text": [
      "Using TensorFlow backend.\n"
     ]
    }
   ],
   "source": [
    "import numpy as np\n",
    "from neuralStellar2 import stellarGrid,NNmodel\n",
    "from datetime import datetime\n",
    "from matplotlib import rc\n",
    "rc(\"font\", family=\"serif\", size=14)\n",
    "import pandas as pd\n",
    "import matplotlib.pyplot as plt\n",
    "import tensorflow as tf\n",
    "from tensorflow import keras\n",
    "from tensorflow.keras.constraints import max_norm\n",
    "from tensorflow.keras import layers\n",
    "from tensorflow.keras.regularizers import l1, l2\n",
    "import pickle"
   ]
  },
  {
   "cell_type": "code",
   "execution_count": 2,
   "metadata": {
    "colab": {},
    "colab_type": "code",
    "id": "lNp4bmh2qyjS"
   },
   "outputs": [],
   "source": [
    "grid_file = \"grid_0_0.csv\"\n",
    "df = pd.read_csv(grid_file)"
   ]
  },
  {
   "cell_type": "code",
   "execution_count": 4,
   "metadata": {
    "colab": {},
    "colab_type": "code",
    "id": "Qxx4usF_q-jJ"
   },
   "outputs": [],
   "source": [
    "df['tenstarfeh'] = 10**df.star_feh # not required because already in grid\n",
    "df['scale_T'] = (df.effective_T/5000) #adds additional column for experimenting\n",
    "df = df.sample(frac=1).reset_index(drop=True) #shuffling\n",
    "#print(df.keys())\n",
    "x_cols = ['star_mass', 'star_age', 'tenstarfeh', 'star_MLT'] #inputs cols\n",
    "y_cols = ['radius', 'scale_T', 'delta_nu'] # output cols"
   ]
  },
  {
   "cell_type": "code",
   "execution_count": 5,
   "metadata": {
    "colab": {
     "base_uri": "https://localhost:8080/",
     "height": 672
    },
    "colab_type": "code",
    "id": "wLOUXXZrrCgY",
    "outputId": "521f3145-fbf9-41ef-c763-e43e7483aae6"
   },
   "outputs": [
    {
     "name": "stdout",
     "output_type": "stream",
     "text": [
      "Model: \"neuralstellar\"\n",
      "_________________________________________________________________\n",
      "Layer (type)                 Output Shape              Param #   \n",
      "=================================================================\n",
      "input_1 (InputLayer)         [(None, 4)]               0         \n",
      "_________________________________________________________________\n",
      "dense (Dense)                (None, 64)                320       \n",
      "_________________________________________________________________\n",
      "dense_1 (Dense)              (None, 64)                4160      \n",
      "_________________________________________________________________\n",
      "dense_2 (Dense)              (None, 64)                4160      \n",
      "_________________________________________________________________\n",
      "dense_3 (Dense)              (None, 64)                4160      \n",
      "_________________________________________________________________\n",
      "dense_4 (Dense)              (None, 64)                4160      \n",
      "_________________________________________________________________\n",
      "dense_5 (Dense)              (None, 64)                4160      \n",
      "_________________________________________________________________\n",
      "dense_6 (Dense)              (None, 3)                 195       \n",
      "=================================================================\n",
      "Total params: 21,315\n",
      "Trainable params: 21,315\n",
      "Non-trainable params: 0\n",
      "_________________________________________________________________\n",
      "training done! now=2020-02-13 18:51:20.994262 | Time lapsed=0:00:04.289560\n"
     ]
    }
   ],
   "source": [
    "arch = [len(x_cols),'bn',64,64,64,64,64,64, len(y_cols)] #list of layer node architecture\n",
    "#arch = [len(x_cols), 'bn',128,128,128,128,128,128,128,128,256,256, len(y_cols)]\n",
    "m1=NNmodel('evo',['mass', 'age', 'feh', 'MLT'], ['radius', 'Teff', 'delnu'])\n",
    "m1.buildModel(arch=arch, activation='elu',reg=['l1',0.00001],dropout=None)\n",
    "m1.compileModel(opt='Nadam', lr=0.001, loss='MAE', metrics=['MAE','MSE'], beta_1=0.9995, beta_2=0.999) #\n",
    "m1.fitModel(df=df, cols=[x_cols,y_cols], epoch_no=1, batch_size=1000000, save_name= \"zzzzzz test\")"
   ]
  },
  {
   "cell_type": "code",
   "execution_count": null,
   "metadata": {},
   "outputs": [],
   "source": []
  }
 ],
 "metadata": {
  "accelerator": "GPU",
  "colab": {
   "name": "grid05.ipynb",
   "provenance": [],
   "toc_visible": true
  },
  "kernelspec": {
   "display_name": "Python 3",
   "language": "python",
   "name": "python3"
  },
  "language_info": {
   "codemirror_mode": {
    "name": "ipython",
    "version": 3
   },
   "file_extension": ".py",
   "mimetype": "text/x-python",
   "name": "python",
   "nbconvert_exporter": "python",
   "pygments_lexer": "ipython3",
   "version": "3.7.3"
  }
 },
 "nbformat": 4,
 "nbformat_minor": 1
}
