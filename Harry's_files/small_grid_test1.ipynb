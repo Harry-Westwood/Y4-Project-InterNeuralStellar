{
 "cells": [
  {
   "cell_type": "code",
   "execution_count": 9,
   "metadata": {},
   "outputs": [
    {
     "data": {
      "text/plain": [
       "'\\n[0]=row\\n[1]=model_number\\n[2]=star_mass\\n[3]=star_age\\n[4]=star_feh\\n[5]=star_MLT\\n[6]=star_fov\\n[7]=effective_T\\n[8]=luminosity\\n[9]=radius\\n[10]=log_g\\n[11]=surface_h1\\n[12]=surface_he4\\n[13]=center_h1\\n[14]=center_he4\\n[15]=log_center_T\\n[16]=log_center_Rho\\n[17]=he_core_mass\\n[18]=delta_nu\\n[19]=delta_Pg\\n[20]=nu_max\\n[21]=nu_0_10\\n[22]=nu_0_11\\n[23]=nu_0_12\\n[24]=nu_0_13\\n[25]=nu_0_14\\n[26]=nu_0_15\\n'"
      ]
     },
     "execution_count": 9,
     "metadata": {},
     "output_type": "execute_result"
    }
   ],
   "source": [
    "'''\n",
    "Considerations\n",
    "-train neural net within ages of 2-6 Gyrs: we know M67 has an age of about 4Gyrs, so there is no point to training it outside this range\n",
    "-We want to have a working neural net that works to a precision of 0.005 dex (0.5% precision), though we should make a determination of how accurate we want it to be. \n",
    "-Most logical loss function is MAE (mean absolute error), although the Median Absolute Error is smaller. We probably want to train using the Mean Absolute Error and then evaluate using the Median Absolute Error.\n",
    "-To determine an adequate guess than the number of epochs to train for we can take a small portion of the grid (e.g. say only where the metallicity is solar and take a few masses) train the neural net till it reaches the desired precision, suggested architecture (3,8,8,2) = (inputs,nodes, hidden layers, outputs).\n",
    "-Sensible number of epochs = 50,000\n",
    "-We want to try an architecture which is the smallest we can get away with such that its faster (start with small architecture and work up).\n",
    "'''\n",
    "import numpy as np\n",
    "data = np.genfromtxt('grid_0_0.csv',delimiter=\",\",skip_header=1)\n",
    "\n",
    "'''\n",
    "[0]=row\n",
    "[1]=model_number\n",
    "[2]=star_mass\n",
    "[3]=star_age\n",
    "[4]=star_feh\n",
    "[5]=star_MLT\n",
    "[6]=star_fov\n",
    "[7]=effective_T\n",
    "[8]=luminosity\n",
    "[9]=radius\n",
    "[10]=log_g\n",
    "[11]=surface_h1\n",
    "[12]=surface_he4\n",
    "[13]=center_h1\n",
    "[14]=center_he4\n",
    "[15]=log_center_T\n",
    "[16]=log_center_Rho\n",
    "[17]=he_core_mass\n",
    "[18]=delta_nu\n",
    "[19]=delta_Pg\n",
    "[20]=nu_max\n",
    "[21]=nu_0_10\n",
    "[22]=nu_0_11\n",
    "[23]=nu_0_12\n",
    "[24]=nu_0_13\n",
    "[25]=nu_0_14\n",
    "[26]=nu_0_15\n",
    "'''"
   ]
  },
  {
   "cell_type": "code",
   "execution_count": 70,
   "metadata": {
    "scrolled": false
   },
   "outputs": [
    {
     "name": "stdout",
     "output_type": "stream",
     "text": [
      "[2.0137011296318104, 6.0063306108872725]\n",
      "[2.047949197098893, 6.040578678354355]\n",
      "[1.982241666191012, 5.9877245396828895]\n",
      "[2.010917625158262, 6.005389056671119]\n",
      "[1.976569299994252, 5.759212269577462]\n",
      "[1.976096966924976, 4.309989670279712]\n",
      "[1.9939831832258756, 3.3130918417258326]\n",
      "[2.0017896988809047, 2.6175492312392463]\n",
      "[2.001309665882801, 2.127369869516874]\n"
     ]
    }
   ],
   "source": [
    "'''\n",
    "def find_tracks(ages):\n",
    "    tracks = []\n",
    "    current_age_val = ages[0]\n",
    "    track_start_index = 0\n",
    "    for i in range(len(ages)):\n",
    "        if ages[i] < current_age_val:\n",
    "            print([i,ages[i],current_age_val])\n",
    "            tracks.append([track_start_index,i-1])\n",
    "            track_start_index = i\n",
    "        current_age_val = ages[i]\n",
    "    tracks.append([track_start_index,len(ages)-1])\n",
    "    return tracks\n",
    "tracks = find_tracks(ages=data[:,3])\n",
    "'''\n",
    "def find_tracks(masses):\n",
    "    tracks = []\n",
    "    current_mass_val = masses[0]\n",
    "    track_start_index = 0\n",
    "    for i in range(len(masses)):\n",
    "        if masses[i] != current_mass_val:\n",
    "            #print([i,masses[i],current_mass_val])\n",
    "            tracks.append([track_start_index,i-1])\n",
    "            track_start_index = i\n",
    "        current_mass_val = masses[i]\n",
    "    tracks.append([track_start_index,len(masses)-1])\n",
    "    return tracks\n",
    "#tracks = find_tracks(masses=data[:,2])\n",
    "def limit_age_range(lower_bounds,upper_bounds,data):\n",
    "    tracks = find_tracks(masses=data[:,2])\n",
    "    limited_tracks = []\n",
    "    for i in range(len(tracks)):\n",
    "        track = data[:,3][tracks[i][0]:tracks[i][1]+1]\n",
    "        lb = (np.abs(track - lower_bounds)).argmin() + tracks[i][0]\n",
    "        ub = (np.abs(track - upper_bounds)).argmin()+ tracks[i][0]\n",
    "        if data[:,3][ub] > lower_bounds: #makes stars that are really young aren't included if their maximum age is less than the lower bounds\n",
    "            limited_tracks.append([lb,ub])\n",
    "    \n",
    "    return limited_tracks\n",
    "tracks = limit_age_range(lower_bounds=2,upper_bounds=6,data=data)\n",
    "\n",
    "for i in range(len(tracks)):\n",
    "    track = data[:,3][tracks[i][0]:tracks[i][1]+1]\n",
    "    print([track[0],track[-1]])\n",
    "    #print([data[:,3][tracks[i][0]],data[:,3][tracks[i][1]]])\n",
    "    #print([data[:,3][tracks[i][0]+1],data[:,3][tracks[i][1]+1]])"
   ]
  }
 ],
 "metadata": {
  "kernelspec": {
   "display_name": "Python 3",
   "language": "python",
   "name": "python3"
  },
  "language_info": {
   "codemirror_mode": {
    "name": "ipython",
    "version": 3
   },
   "file_extension": ".py",
   "mimetype": "text/x-python",
   "name": "python",
   "nbconvert_exporter": "python",
   "pygments_lexer": "ipython3",
   "version": "3.7.3"
  }
 },
 "nbformat": 4,
 "nbformat_minor": 2
}
